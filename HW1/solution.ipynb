{
 "cells": [
  {
   "cell_type": "code",
   "execution_count": 167,
   "metadata": {},
   "outputs": [],
   "source": [
    "import pandas as pd\n",
    "import numpy as np\n",
    "import warnings\n",
    "from matplotlib import pyplot as plt\n",
    "\n",
    "warnings.filterwarnings(\"ignore\")"
   ]
  },
  {
   "attachments": {},
   "cell_type": "markdown",
   "metadata": {},
   "source": [
    "### 1. Скачайте данные в формате csv"
   ]
  },
  {
   "cell_type": "code",
   "execution_count": 154,
   "metadata": {},
   "outputs": [],
   "source": [
    "data_path = 'https://covid.ourworldindata.org/data/owid-covid-data.csv'\n",
    "days_delta = 50\n",
    "date_start = '2020-03-03'\n",
    "date_end = '2020-12-03'\n"
   ]
  },
  {
   "cell_type": "code",
   "execution_count": 155,
   "metadata": {},
   "outputs": [],
   "source": [
    "df = pd.read_csv(data_path)"
   ]
  },
  {
   "cell_type": "code",
   "execution_count": 156,
   "metadata": {},
   "outputs": [],
   "source": [
    "df = df[df['iso_code'] == 'RUS']\n",
    "df['date'] = pd.to_datetime(df['date'])\n",
    "df = df[df['date'] >= date_start]\n",
    "df = df[df['date'] <= date_end]\n",
    "# df = df[df['date'] < df['date'].min() + pd.Timedelta(days=days_delta)]\n",
    "df.reset_index(drop=True, inplace=True)"
   ]
  },
  {
   "cell_type": "code",
   "execution_count": 196,
   "metadata": {},
   "outputs": [],
   "source": [
    "target_col = ['total_cases'] # 'total_cases', new_cases\n",
    "feature_cols = [\n",
    "    'total_deaths',\n",
    "    'new_deaths',\n",
    "    'new_deaths_smoothed',\n",
    "    'stringency_index',\n",
    "    'reproduction_rate',\n",
    "    'total_tests',\n",
    "    'new_tests',\n",
    "    'new_tests_smoothed',\n",
    "    'positive_rate',\n",
    "    'tests_per_case',\n",
    "]"
   ]
  },
  {
   "cell_type": "code",
   "execution_count": 197,
   "metadata": {},
   "outputs": [],
   "source": [
    "X = df[feature_cols]\n",
    "y = df[target_col]\n",
    "# y[y == 0] = 1\n",
    "\n",
    "X_train = X[:days_delta]\n",
    "y_train = y[:days_delta]\n",
    "\n",
    "X_test = X[days_delta:]\n",
    "y_test = y[days_delta:]"
   ]
  },
  {
   "cell_type": "code",
   "execution_count": 198,
   "metadata": {},
   "outputs": [],
   "source": [
    "X['total_deaths'].fillna(0, inplace=True)\n",
    "X['new_tests_smoothed'].fillna(0, inplace=True)\n",
    "X['positive_rate'].fillna(0, inplace=True)\n",
    "X['tests_per_case'].fillna(0, inplace=True)\n",
    "X['reproduction_rate'].fillna(X['reproduction_rate'].mean(), inplace=True)\n",
    "X['total_tests'].interpolate(method='nearest', inplace=True)\n",
    "X['total_tests'].fillna(X['total_tests'].min(), inplace=True)\n",
    "X['new_tests'].interpolate(method='nearest', inplace=True)\n",
    "X['new_tests'].fillna(X['new_tests'].min(), inplace=True)\n"
   ]
  },
  {
   "cell_type": "code",
   "execution_count": 199,
   "metadata": {},
   "outputs": [
    {
     "data": {
      "text/plain": [
       "total_deaths           0\n",
       "new_deaths             0\n",
       "new_deaths_smoothed    0\n",
       "stringency_index       0\n",
       "reproduction_rate      0\n",
       "total_tests            0\n",
       "new_tests              0\n",
       "new_tests_smoothed     0\n",
       "positive_rate          0\n",
       "tests_per_case         0\n",
       "dtype: int64"
      ]
     },
     "execution_count": 199,
     "metadata": {},
     "output_type": "execute_result"
    }
   ],
   "source": [
    "X.isna().sum()"
   ]
  },
  {
   "cell_type": "code",
   "execution_count": 200,
   "metadata": {},
   "outputs": [
    {
     "data": {
      "text/html": [
       "<div>\n",
       "<style scoped>\n",
       "    .dataframe tbody tr th:only-of-type {\n",
       "        vertical-align: middle;\n",
       "    }\n",
       "\n",
       "    .dataframe tbody tr th {\n",
       "        vertical-align: top;\n",
       "    }\n",
       "\n",
       "    .dataframe thead th {\n",
       "        text-align: right;\n",
       "    }\n",
       "</style>\n",
       "<table border=\"1\" class=\"dataframe\">\n",
       "  <thead>\n",
       "    <tr style=\"text-align: right;\">\n",
       "      <th></th>\n",
       "      <th>total_deaths</th>\n",
       "      <th>new_deaths</th>\n",
       "      <th>new_deaths_smoothed</th>\n",
       "      <th>stringency_index</th>\n",
       "      <th>reproduction_rate</th>\n",
       "      <th>total_tests</th>\n",
       "      <th>new_tests</th>\n",
       "      <th>new_tests_smoothed</th>\n",
       "      <th>positive_rate</th>\n",
       "      <th>tests_per_case</th>\n",
       "    </tr>\n",
       "  </thead>\n",
       "  <tbody>\n",
       "    <tr>\n",
       "      <th>0</th>\n",
       "      <td>0.0</td>\n",
       "      <td>0.0</td>\n",
       "      <td>0.0</td>\n",
       "      <td>8.33</td>\n",
       "      <td>1.21046</td>\n",
       "      <td>46414.0</td>\n",
       "      <td>2243.0</td>\n",
       "      <td>0.0</td>\n",
       "      <td>0.0</td>\n",
       "      <td>0.0</td>\n",
       "    </tr>\n",
       "    <tr>\n",
       "      <th>1</th>\n",
       "      <td>0.0</td>\n",
       "      <td>0.0</td>\n",
       "      <td>0.0</td>\n",
       "      <td>8.33</td>\n",
       "      <td>1.21046</td>\n",
       "      <td>46414.0</td>\n",
       "      <td>2243.0</td>\n",
       "      <td>0.0</td>\n",
       "      <td>0.0</td>\n",
       "      <td>0.0</td>\n",
       "    </tr>\n",
       "    <tr>\n",
       "      <th>2</th>\n",
       "      <td>0.0</td>\n",
       "      <td>0.0</td>\n",
       "      <td>0.0</td>\n",
       "      <td>16.67</td>\n",
       "      <td>1.21046</td>\n",
       "      <td>51366.0</td>\n",
       "      <td>4952.0</td>\n",
       "      <td>0.0</td>\n",
       "      <td>0.0</td>\n",
       "      <td>0.0</td>\n",
       "    </tr>\n",
       "    <tr>\n",
       "      <th>3</th>\n",
       "      <td>0.0</td>\n",
       "      <td>0.0</td>\n",
       "      <td>0.0</td>\n",
       "      <td>16.67</td>\n",
       "      <td>1.21046</td>\n",
       "      <td>55688.0</td>\n",
       "      <td>4322.0</td>\n",
       "      <td>0.0</td>\n",
       "      <td>0.0</td>\n",
       "      <td>0.0</td>\n",
       "    </tr>\n",
       "    <tr>\n",
       "      <th>4</th>\n",
       "      <td>0.0</td>\n",
       "      <td>0.0</td>\n",
       "      <td>0.0</td>\n",
       "      <td>16.67</td>\n",
       "      <td>1.21046</td>\n",
       "      <td>59960.0</td>\n",
       "      <td>4272.0</td>\n",
       "      <td>0.0</td>\n",
       "      <td>0.0</td>\n",
       "      <td>0.0</td>\n",
       "    </tr>\n",
       "  </tbody>\n",
       "</table>\n",
       "</div>"
      ],
      "text/plain": [
       "   total_deaths  new_deaths  new_deaths_smoothed  stringency_index  \\\n",
       "0           0.0         0.0                  0.0              8.33   \n",
       "1           0.0         0.0                  0.0              8.33   \n",
       "2           0.0         0.0                  0.0             16.67   \n",
       "3           0.0         0.0                  0.0             16.67   \n",
       "4           0.0         0.0                  0.0             16.67   \n",
       "\n",
       "   reproduction_rate  total_tests  new_tests  new_tests_smoothed  \\\n",
       "0            1.21046      46414.0     2243.0                 0.0   \n",
       "1            1.21046      46414.0     2243.0                 0.0   \n",
       "2            1.21046      51366.0     4952.0                 0.0   \n",
       "3            1.21046      55688.0     4322.0                 0.0   \n",
       "4            1.21046      59960.0     4272.0                 0.0   \n",
       "\n",
       "   positive_rate  tests_per_case  \n",
       "0            0.0             0.0  \n",
       "1            0.0             0.0  \n",
       "2            0.0             0.0  \n",
       "3            0.0             0.0  \n",
       "4            0.0             0.0  "
      ]
     },
     "execution_count": 200,
     "metadata": {},
     "output_type": "execute_result"
    }
   ],
   "source": [
    "X.head()"
   ]
  },
  {
   "attachments": {},
   "cell_type": "markdown",
   "metadata": {},
   "source": [
    "### 2. Постройте графики целевых переменных"
   ]
  },
  {
   "cell_type": "code",
   "execution_count": 201,
   "metadata": {},
   "outputs": [
    {
     "data": {
      "text/plain": [
       "<AxesSubplot:title={'center':'new_cases'}>"
      ]
     },
     "execution_count": 201,
     "metadata": {},
     "output_type": "execute_result"
    },
    {
     "data": {
      "image/png": "[encoded data removed]",
      "text/plain": [
       "<Figure size 720x360 with 2 Axes>"
      ]
     },
     "metadata": {
      "needs_background": "light"
     },
     "output_type": "display_data"
    }
   ],
   "source": [
    "fig, ax = plt.subplots(1, 2, figsize=(10,5))\n",
    "df['total_cases'].plot(ax=ax[0], title='total_cases')\n",
    "df['new_cases'].plot(ax=ax[1], title='new_cases')"
   ]
  },
  {
   "attachments": {},
   "cell_type": "markdown",
   "metadata": {},
   "source": [
    "#### 2.a линейная регрессия с экспоненциальным ростом числа заболевших"
   ]
  },
  {
   "cell_type": "code",
   "execution_count": 202,
   "metadata": {},
   "outputs": [],
   "source": [
    "from sklearn.linear_model import LinearRegression"
   ]
  },
  {
   "cell_type": "code",
   "execution_count": 212,
   "metadata": {},
   "outputs": [],
   "source": [
    "model = LinearRegression()\n",
    "model.fit(X_train, np.log(y_train))\n",
    "\n",
    "preds_train = model.predict(X_train)\n",
    "preds_test = model.predict(X_test)\n",
    "preds = np.concatenate([preds_train, preds_test])\n",
    "preds = np.exp(preds)"
   ]
  },
  {
   "cell_type": "code",
   "execution_count": 232,
   "metadata": {},
   "outputs": [
    {
     "data": {
      "image/png": "[encoded data removed]",
      "text/plain": [
       "<Figure size 720x504 with 1 Axes>"
      ]
     },
     "metadata": {
      "needs_background": "light"
     },
     "output_type": "display_data"
    }
   ],
   "source": [
    "fig, ax = plt.subplots(figsize=(10,7))\n",
    "ax.plot(preds[:70], label='prediction')\n",
    "ax.plot(y[:70], label='true')\n",
    "ax.legend();"
   ]
  },
  {
   "attachments": {},
   "cell_type": "markdown",
   "metadata": {},
   "source": [
    "#### 2.b апостериорное распределение параметров модели для достаточно широкого априорного распределения\n",
    "### Комментарий\n",
    "Берем в качестве априорного распределения гауссиану с условно \"большой\" дисперсией. Далее умножаем ее на оценку правдоподобия в одной точке по формулам, которые разбирали на лекции. Полученное распределение также является гауссианой, т.к. нормальное распределение является сопряженным для линейной регрессии. Берем полученное апостерирорное распределение в качестве априорного и повторяем процедуру N-1 раз, где N - количество точек данных (в нашем случае 50)  "
   ]
  },
  {
   "cell_type": "code",
   "execution_count": 276,
   "metadata": {},
   "outputs": [
    {
     "data": {
      "text/plain": [
       "(13555.650384664257,\n",
       " array([-7.24526900e-04,  4.77262250e-03, -1.53756856e-01,  4.42072838e-02,\n",
       "         7.81853157e-01,  3.23329246e-07, -1.53285207e-06,  2.94104609e-05,\n",
       "         1.94021555e+02,  4.02367436e-04, -7.38336818e-02]))"
      ]
     },
     "execution_count": 276,
     "metadata": {},
     "output_type": "execute_result"
    }
   ],
   "source": [
    "w = np.append(model.coef_[0], model.intercept_[0])\n",
    "sigma_noise = (y_train - preds_train).std().values[0]\n",
    "sigma_noise, w"
   ]
  },
  {
   "cell_type": "code",
   "execution_count": 363,
   "metadata": {},
   "outputs": [
    {
     "data": {
      "text/plain": [
       "((11,), (11, 11))"
      ]
     },
     "execution_count": 363,
     "metadata": {},
     "output_type": "execute_result"
    }
   ],
   "source": [
    "cur_mu, cur_sigma = np.zeros(w.shape[0]), np.eye(w.shape[0]) * 1000\n",
    "cur_mu.shape, cur_sigma.shape"
   ]
  },
  {
   "cell_type": "code",
   "execution_count": 364,
   "metadata": {},
   "outputs": [],
   "source": [
    "def bayesian_update(mu, sigma, x, y, sigma_noise):\n",
    "    x = np.concatenate((x, np.array([[1]])), axis=1)\n",
    "    sigma_n = np.linalg.inv(np.linalg.inv(sigma) + (1 / (sigma_noise ** 2)) * np.matmul(np.transpose(x), x) )\n",
    "    mu_n = np.matmul(sigma_n, np.matmul(np.linalg.inv(sigma), np.transpose(mu)) + (1 / (sigma_noise ** 2)) * np.matmul(np.transpose(x), y))\n",
    "    return mu_n, sigma_n"
   ]
  },
  {
   "cell_type": "code",
   "execution_count": 365,
   "metadata": {},
   "outputs": [
    {
     "data": {
      "text/plain": [
       "array([-7.24526900e-04,  4.77262250e-03, -1.53756856e-01,  4.42072838e-02,\n",
       "        7.81853157e-01,  3.23329246e-07, -1.53285207e-06,  2.94104609e-05,\n",
       "        1.94021555e+02,  4.02367436e-04, -7.38336818e-02])"
      ]
     },
     "execution_count": 365,
     "metadata": {},
     "output_type": "execute_result"
    }
   ],
   "source": [
    "w"
   ]
  },
  {
   "cell_type": "code",
   "execution_count": 366,
   "metadata": {},
   "outputs": [
    {
     "data": {
      "text/plain": [
       "array([ 1.23985723e+01,  8.34351919e-01,  1.06531100e+00, -6.52037431e+00,\n",
       "       -3.27325333e-01,  3.64715679e-02, -8.25266257e-03, -3.77213587e-01,\n",
       "        2.17279337e-04, -1.10924763e+00, -1.70884732e-01])"
      ]
     },
     "execution_count": 366,
     "metadata": {},
     "output_type": "execute_result"
    }
   ],
   "source": [
    "for i in range(0, 50):\n",
    "    cur_mu, cur_sigma = bayesian_update(cur_mu, cur_sigma, X_train.iloc[i:i+1], y_train.iloc[i], sigma_noise=sigma_noise)\n",
    "cur_mu"
   ]
  },
  {
   "attachments": {},
   "cell_type": "markdown",
   "metadata": {},
   "source": [
    "#### 2.c графики сэмплов разных экспонент"
   ]
  },
  {
   "cell_type": "code",
   "execution_count": null,
   "metadata": {},
   "outputs": [],
   "source": [
    "N_SAMPLES = 500\n",
    "\n",
    "plt.figure(figsize=(12, 5))\n",
    "sampled_w = np.random.multivariate_normal(mu, sigma, N_SAMPLES)\n",
    "for (w0, w1) in sampled_w:\n",
    "    y_pred = X_train * w1 + w0\n",
    "    plt.plot(np.exp(y_pred))\n",
    "plt.plot(np.exp(y_train), color='red', linewidth=3, label='Real')\n",
    "plt.legend();"
   ]
  }
 ],
 "metadata": {
  "kernelspec": {
   "display_name": "ML",
   "language": "python",
   "name": "python3"
  },
  "language_info": {
   "codemirror_mode": {
    "name": "ipython",
    "version": 3
   },
   "file_extension": ".py",
   "mimetype": "text/x-python",
   "name": "python",
   "nbconvert_exporter": "python",
   "pygments_lexer": "ipython3",
   "version": "3.9.13"
  },
  "orig_nbformat": 4
 },
 "nbformat": 4,
 "nbformat_minor": 2
}
