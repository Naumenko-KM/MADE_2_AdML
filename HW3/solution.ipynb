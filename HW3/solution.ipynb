{
 "cells": [
  {
   "cell_type": "code",
   "execution_count": 63,
   "metadata": {},
   "outputs": [],
   "source": [
    "from collections import Counter\n",
    "import random\n",
    "import numpy as np\n",
    "from tqdm.notebook import trange"
   ]
  },
  {
   "cell_type": "code",
   "execution_count": 64,
   "metadata": {},
   "outputs": [],
   "source": [
    "PRINT_LEN = 50"
   ]
  },
  {
   "cell_type": "code",
   "execution_count": 65,
   "metadata": {},
   "outputs": [],
   "source": [
    "def get_accuracy(pred, label):\n",
    "    corrects = 0\n",
    "    for i in range(len(pred)):\n",
    "        if pred[i] == label[i]:\n",
    "            corrects += 1\n",
    "    acc = corrects / len(pred)\n",
    "    print(f'Accuracy: {acc:.3f}')\n",
    "    return acc"
   ]
  },
  {
   "cell_type": "code",
   "execution_count": 66,
   "metadata": {},
   "outputs": [
    {
     "data": {
      "text/plain": [
       "'война и мир самый известный роман льва николаевича'"
      ]
     },
     "execution_count": 66,
     "metadata": {},
     "output_type": "execute_result"
    }
   ],
   "source": [
    "data_path = 'texts/WarAndPeace.txt'\n",
    "with open(data_path, 'r') as f:\n",
    "    corpus = f.read()\n",
    "    \n",
    "alphabet = 'абвгдеёжзийклмнопрстуфхцчшщъыьэюя '\n",
    "corpus = corpus.lower().replace('\\n', ' ').replace('\\t', ' ')\n",
    "corpus = ''.join([x for x in corpus if x in alphabet])\n",
    "corpus = ' '.join(corpus.split())\n",
    "corpus[:PRINT_LEN]\n"
   ]
  },
  {
   "attachments": {},
   "cell_type": "markdown",
   "metadata": {},
   "source": [
    "### 1. Базовый частотный метод"
   ]
  },
  {
   "cell_type": "code",
   "execution_count": 67,
   "metadata": {},
   "outputs": [
    {
     "data": {
      "text/plain": [
       "[(' ', 103408), ('о', 61282), ('а', 45209), ('е', 42519), ('и', 35838)]"
      ]
     },
     "execution_count": 67,
     "metadata": {},
     "output_type": "execute_result"
    }
   ],
   "source": [
    "unigrams = Counter(corpus).most_common()\n",
    "unigrams[:5]"
   ]
  },
  {
   "attachments": {},
   "cell_type": "markdown",
   "metadata": {},
   "source": [
    "Зашифруем первые 10000 символов текста"
   ]
  },
  {
   "cell_type": "code",
   "execution_count": 68,
   "metadata": {},
   "outputs": [
    {
     "name": "stdout",
     "output_type": "stream",
     "text": [
      "true:    война и мир самый известный роман льва николаевича\n",
      "encoded: фьхмйншнэшзнцйэвхншуфац мвхнзьэймнтжфйнмшяьтйафшёй\n"
     ]
    }
   ],
   "source": [
    "test = corpus[:10000]\n",
    "\n",
    "unique_chars = list(set(test))\n",
    "unique_chars_shuffled = unique_chars.copy()\n",
    "random.Random(42).shuffle(unique_chars_shuffled)\n",
    "\n",
    "encoder_dict = dict(zip(unique_chars, unique_chars_shuffled))\n",
    "trans_table = str.maketrans(encoder_dict)\n",
    "\n",
    "test_encoded = test.translate(trans_table)\n",
    "encoded_unigrams = Counter(test_encoded).most_common()\n",
    "print('true:   ', test[:PRINT_LEN])\n",
    "print('encoded:', test_encoded[:PRINT_LEN])"
   ]
  },
  {
   "attachments": {},
   "cell_type": "markdown",
   "metadata": {},
   "source": [
    "Посмотрим, как меняется точность в зависимости от того, сколько самых частых символов заменяем"
   ]
  },
  {
   "cell_type": "code",
   "execution_count": 69,
   "metadata": {},
   "outputs": [
    {
     "name": "stdout",
     "output_type": "stream",
     "text": [
      "true:    война и мир самый известный роман льва николаевича\n",
      "encoded: фьхмйншнэшзнцйэвхншуфац мвхнзьэймнтжфйнмшяьтйафшёй\n",
      "top  1 : фьхмй ш эшз цйэвх шуфац мвх зьэйм тжфй мшяьтйафшёй   Accuracy: 0.162\n",
      "top  6 : фохие н энз цеэвх нуфац ивх зоэеи тжфе иняотеафнёе   Accuracy: 0.251\n",
      "top 11 : сохие н энв леэвх нусалтивх воэеи ржсе иняореаснёе   Accuracy: 0.301\n",
      "top 16 : сохие н днв ледвх нусалтивх водеи ржсе инкореаснёе   Accuracy: 0.348\n",
      "top 21 : сохие н днв ледьх нгсалтиьх водеи рысе инкореаснзе   Accuracy: 0.348\n",
      "top 26 : сойие н днв ледьй нгсалтиьй водеи рысе инкореаснзе   Accuracy: 0.375\n",
      "top 31 : сойие н днв ледьй нгсалтиьй водеи рысе инкореаснзе   Accuracy: 0.379\n",
      "top 34 : сойие н днв ледьй нгсалтиьй водеи рысе инкореаснзе   Accuracy: 0.382\n"
     ]
    }
   ],
   "source": [
    "print('true:   ', test[:PRINT_LEN])\n",
    "print('encoded:', test_encoded[:PRINT_LEN])\n",
    "for i in range(len(encoded_unigrams)):\n",
    "    decoder_dict = dict(zip([x[0] for x in encoded_unigrams[:i + 1]], [x[0] for x in unigrams[:i + 1]]))\n",
    "    trans_table = str.maketrans(decoder_dict)\n",
    "    test_decoded = test_encoded.translate(trans_table)\n",
    "    if i % 5 == 0 or i == len(encoded_unigrams) - 1:\n",
    "        print(f'top {i + 1:2} :', test_decoded[:PRINT_LEN], end='   ')\n",
    "        get_accuracy(test, test_decoded);"
   ]
  },
  {
   "attachments": {},
   "cell_type": "markdown",
   "metadata": {},
   "source": [
    "Точность частотного подхода около 38%, хотя понять декодированный текст нельзя"
   ]
  },
  {
   "attachments": {},
   "cell_type": "markdown",
   "metadata": {},
   "source": [
    "### 2. Биграммный частотный метод"
   ]
  },
  {
   "cell_type": "code",
   "execution_count": 70,
   "metadata": {},
   "outputs": [
    {
     "name": "stdout",
     "output_type": "stream",
     "text": [
      "bigrams: 796\n"
     ]
    },
    {
     "data": {
      "text/plain": [
       "[('о ', 13316), ('и ', 11398), ('а ', 10596), ('е ', 10040), (' с', 9863)]"
      ]
     },
     "execution_count": 70,
     "metadata": {},
     "output_type": "execute_result"
    }
   ],
   "source": [
    "bigrams = Counter(corpus[i:i + 2] for i in range(len(corpus) - 1)).most_common()\n",
    "print(f'bigrams: {len(bigrams)}')\n",
    "bigrams[:5]"
   ]
  },
  {
   "cell_type": "code",
   "execution_count": 71,
   "metadata": {},
   "outputs": [],
   "source": [
    "unique_chars = Counter(corpus[x:x+2] for x in range(len(corpus) - 1)).most_common() \n",
    "unique_chars = [x[0] for x in unique_chars]\n",
    "unique_chars_shuffled = unique_chars.copy()\n",
    "random.Random(42).shuffle(unique_chars_shuffled)\n",
    "\n",
    "encoder_dict = dict(zip(unique_chars, unique_chars_shuffled))\n",
    "encoded_bigrams = Counter(test_encoded[i:i + 2] for i in range(len(test_encoded) - 1)).most_common() "
   ]
  },
  {
   "cell_type": "code",
   "execution_count": 72,
   "metadata": {},
   "outputs": [
    {
     "name": "stdout",
     "output_type": "stream",
     "text": [
      "true:     война и мир самый известный роман льва николаевича\n",
      "encoded:  фьхмйншнэшзнцйэвхншуфац мвхнзьэймнтжфйнмшяьтйафшёй\n",
      "top   1 : фьхмйншнэшзнцйэвхншуфац мвхнзьэймнтжфйнмшяьтйафшёй   Accuracy: 0.010\n",
      "top  51 :  бхме и эшзнцйэвотшуу стмвотлоэймнтж т пшяьтйафшёй   Accuracy: 0.150\n",
      "top 101 :  бхме и чтзнцйэвотшуу ст уотлоэйнясь т пшяк йатиёй   Accuracy: 0.170\n",
      "top 151 :  бхме и чтзнцйэвотхоу ст уотлочанясь т пшяк шитины   Accuracy: 0.178\n",
      "top 201 :  бр е и чтужцйэвотхоу ст уотлочанясь т пвнк шитины   Accuracy: 0.183\n",
      "top 251 :  бр е и чтужебэвотхоу ст уотлочанясь т пвнк шитины   Accuracy: 0.185\n",
      "top 301 :  бр е и чтужебаботхоу ст уотлочанясь т пвнк шитины   Accuracy: 0.186\n",
      "top 351 :  бр е и чтужебаботхоу ст уотлочанясь т пвнк шитины   Accuracy: 0.186\n",
      "top 401 :  бр е и чтужебаботхоу ст уотлочанясь т пвнк шитины   Accuracy: 0.187\n",
      "top 451 :  бр е и чтужебаботхоу ст уотлочанясь т пвнк шитины   Accuracy: 0.187\n",
      "top 501 :  бр е и чтужебаботхоу ст уотлочанясь т пвнк шитины   Accuracy: 0.187\n",
      "top 505 :  бр е и чтужебаботхоу ст уотлочанясь т пвнк шитины   Accuracy: 0.187\n"
     ]
    }
   ],
   "source": [
    "print('true:    ', test[:PRINT_LEN])\n",
    "print('encoded: ', test_encoded[:PRINT_LEN])\n",
    "for i in range(len(encoded_bigrams)):\n",
    "    decoder_dict = dict(zip([x[0] for x in encoded_bigrams[:i + 1]], [x[0] for x in bigrams[:i + 1]]))\n",
    "    test_decoded = ''\n",
    "    for j in range(0, len(test_encoded), 2):\n",
    "        if test_encoded[j:j + 2] in decoder_dict:\n",
    "            test_decoded += decoder_dict[test_encoded[j:j + 2]]\n",
    "        else: \n",
    "            test_decoded += test_encoded[j:j + 2]\n",
    "    if i % 50 == 0 or i == len(encoded_bigrams) - 1:\n",
    "        print(f'top {i + 1:3} :', test_decoded[:PRINT_LEN], end='   ')\n",
    "        get_accuracy(test, test_decoded);"
   ]
  },
  {
   "attachments": {},
   "cell_type": "markdown",
   "metadata": {},
   "source": [
    "Биграммный частотный метод дал точность 18%, что еще хуже, чем базовый подход"
   ]
  },
  {
   "attachments": {},
   "cell_type": "markdown",
   "metadata": {},
   "source": [
    "### 3. MCMC-сэмплированиe\n",
    "Построим марковскую цепь для перестановки символов и найдем для нее стационарное распределение, соответствующее распределению n-грамм в русском языке\n",
    "Воспользуемся алгоритмом Метрополиса-Гастингса, где коэффициент $a(text_{cur}, text_{new})=\\frac{p*(text_{new})}{p*(text_{cur})}$ в качестве произвольного распределения возьмем равномерное, с поправкой на ассиметричность = 1.\n",
    "\n",
    "Для вычислительной стабильности возмем логарифм от произведения. Нормировка на суммарное количество n-gramm не используется, т.к. с ней результаты хуже."
   ]
  },
  {
   "cell_type": "code",
   "execution_count": 73,
   "metadata": {},
   "outputs": [],
   "source": [
    "class MCMC:\n",
    "    def __init__(self) -> None:\n",
    "        self.vocab = None\n",
    "        self.n_grams = None\n",
    "\n",
    "    def fit(self, text, n_grams=2):\n",
    "        self.vocab = list(set(text))\n",
    "        self.n_grams = n_grams\n",
    "\n",
    "        self.freq_dict = Counter(corpus[i:i + n_grams] for i in range(len(corpus) - n_grams + 1))\n",
    "        for key in self.freq_dict.keys():\n",
    "            self.freq_dict[key] = np.log(self.freq_dict[key])\n",
    "\n",
    "    def change_text(self, text):\n",
    "        token_1 = random.choice(self.vocab)[0]\n",
    "        token_2 = random.choice(self.vocab)[0]\n",
    "        encoder_dict = {\n",
    "            token_1: token_2,\n",
    "            token_2: token_1\n",
    "            }\n",
    "        trans_table = str.maketrans(encoder_dict)\n",
    "        text_new = text.translate(trans_table)\n",
    "        return text_new\n",
    "\n",
    "    def get_score(self, text):\n",
    "        score = 0\n",
    "        for i in range(len(text) - self.n_grams + 1):\n",
    "            cur_token = text[i:i + self.n_grams]\n",
    "            score += self.freq_dict.get(cur_token, 0)\n",
    "        return score\n",
    "    \n",
    "    def decode(self, text, num_iters=5000):\n",
    "        best_text = cur_text = text\n",
    "        best_score = cur_score = self.get_score(cur_text)\n",
    "\n",
    "        iters = trange(num_iters, desc='Best score')\n",
    "        for i in iters:\n",
    "            new_text = self.change_text(cur_text)\n",
    "            new_score = self.get_score(new_text)\n",
    "            if new_score >= best_score:\n",
    "                best_score = new_score\n",
    "                best_text = new_text\n",
    "                iters.set_description(f\"Best score: {int(best_score)}\")\n",
    "            if new_score >= cur_score:\n",
    "                cur_score = new_score\n",
    "                cur_text = new_text\n",
    "            elif np.log(random.random()) < (new_score - cur_score):\n",
    "                cur_text = new_text\n",
    "        return best_text"
   ]
  },
  {
   "cell_type": "code",
   "execution_count": 75,
   "metadata": {},
   "outputs": [
    {
     "data": {
      "application/vnd.jupyter.widget-view+json": {
       "model_id": "e987ef3d0e26454a97e6a95a6bdf6dd7",
       "version_major": 2,
       "version_minor": 0
      },
      "text/plain": [
       "Best score:   0%|          | 0/5000 [00:00<?, ?it/s]"
      ]
     },
     "metadata": {},
     "output_type": "display_data"
    },
    {
     "name": "stdout",
     "output_type": "stream",
     "text": [
      "фьхмйншнэшзнцйэвхншуфац мвхнзьэймнтжфйнмшяьтйафшёй\n",
      "война и мир самый известный роман льва николаевича\n",
      "Accuracy: 1.000\n"
     ]
    }
   ],
   "source": [
    "model = MCMC()\n",
    "model.fit(corpus, 2)\n",
    "test_decoded = model.decode(test_encoded)\n",
    "print(test_encoded[:PRINT_LEN])\n",
    "print(test_decoded[:PRINT_LEN])\n",
    "get_accuracy(test_decoded, test);"
   ]
  },
  {
   "attachments": {},
   "cell_type": "markdown",
   "metadata": {},
   "source": [
    "Алгоритм полностью расшифровал тестовый пример. Скорее всего распределение биграмм на 10 000 символов почти полностью соответствует распределению биграмм на всем корпусе текста.\n",
    "\n",
    "P.S. алгоритм может сойтис не с первого раза."
   ]
  },
  {
   "attachments": {},
   "cell_type": "markdown",
   "metadata": {},
   "source": [
    "### 4. Расшифровка сообщения"
   ]
  },
  {
   "cell_type": "code",
   "execution_count": 22,
   "metadata": {},
   "outputs": [
    {
     "data": {
      "application/vnd.jupyter.widget-view+json": {
       "model_id": "6b5293d1e9d3410f86bdc5b515b7980a",
       "version_major": 2,
       "version_minor": 0
      },
      "text/plain": [
       "Best score:   0%|          | 0/50000 [00:00<?, ?it/s]"
      ]
     },
     "metadata": {},
     "output_type": "display_data"
    },
    {
     "name": "stdout",
     "output_type": "stream",
     "text": [
      "←⇠⇒↟↹↷⇊↹↷↟↤↟↨←↹↝⇛⇯↳⇴⇒⇈↝⇊↾↹↟⇒↟↹⇷⇛⇞↨↟↹↝⇛⇯↳⇴⇒⇈↝⇊↾↹↨←⇌⇠↨↹⇙↹⇸↨⇛↙⇛↹⇠⇛⇛↲⇆←↝↟↞↹⇌⇛↨⇛⇯⇊↾↹⇒←↙⇌⇛↹⇷⇯⇛⇞↟↨⇴↨⇈↹⇠⇌⇛⇯←←↹↷⇠←↙⇛↹↷⇊↹↷⇠←↹⇠↤←⇒⇴⇒↟↹⇷⇯⇴↷↟⇒⇈↝⇛↹↟↹⇷⇛⇒⇙⇞↟↨←↹↳⇴⇌⇠↟↳⇴⇒⇈↝⇊↾↹↲⇴⇒⇒↹⇰⇴↹⇷⇛⇠⇒←↤↝←←↹⇞←↨↷←⇯↨⇛←↹⇰⇴↤⇴↝↟←↹⇌⇙⇯⇠⇴↹↘⇛↨↞↹⇌⇛↝←⇞↝⇛↹↞↹↝↟⇞←↙⇛↹↝←↹⇛↲←⇆⇴⇏\n",
      "если вы вимите норзальный или подти норзальный текст у этого сообщения который легко продитать скорее всего вы все смелали правильно и полудите заксизальный балл ча послемнее детвертое чамание курса хотя конедно я нидего не обещаж\n"
     ]
    }
   ],
   "source": [
    "test_2 = '←⇠⇒↟↹↷⇊↹↷↟↤↟↨←↹↝⇛⇯↳⇴⇒⇈↝⇊↾↹↟⇒↟↹⇷⇛⇞↨↟↹↝⇛⇯↳⇴⇒⇈↝⇊↾↹↨←⇌⇠↨↹⇙↹⇸↨⇛↙⇛↹⇠⇛⇛↲⇆←↝↟↞↹⇌⇛↨⇛⇯⇊↾↹⇒←↙⇌⇛↹⇷⇯⇛⇞↟↨⇴↨⇈↹⇠⇌⇛⇯←←↹↷⇠←↙⇛↹↷⇊↹↷⇠←↹⇠↤←⇒⇴⇒↟↹⇷⇯⇴↷↟⇒⇈↝⇛↹↟↹⇷⇛⇒⇙⇞↟↨←↹↳⇴⇌⇠↟↳⇴⇒⇈↝⇊↾↹↲⇴⇒⇒↹⇰⇴↹⇷⇛⇠⇒←↤↝←←↹⇞←↨↷←⇯↨⇛←↹⇰⇴↤⇴↝↟←↹⇌⇙⇯⇠⇴↹↘⇛↨↞↹⇌⇛↝←⇞↝⇛↹↞↹↝↟⇞←↙⇛↹↝←↹⇛↲←⇆⇴⇏'\n",
    "test_2_dict = {elem: model.vocab[i] for i, elem in enumerate(set(test_2))}\n",
    "trans_table = str.maketrans(test_2_dict)\n",
    "test_2_ru = test_2.translate(trans_table)\n",
    "test_2_decoded = model.decode(test_2_ru, 50000)\n",
    "print(test_2)\n",
    "print(test_2_decoded)"
   ]
  },
  {
   "attachments": {},
   "cell_type": "markdown",
   "metadata": {},
   "source": [
    "После нескольких перезапусков алгоритма, удалось получить примерный перевод сообщения. Возможно для лучшей сходимости нужно обучить модель на большем количестве корпусов."
   ]
  },
  {
   "attachments": {},
   "cell_type": "markdown",
   "metadata": {},
   "source": [
    "### 5. Сэмплирование с n-граммами"
   ]
  },
  {
   "cell_type": "code",
   "execution_count": 76,
   "metadata": {},
   "outputs": [
    {
     "data": {
      "application/vnd.jupyter.widget-view+json": {
       "model_id": "2cb0f71e7f5142d1abe5b1f23060500c",
       "version_major": 2,
       "version_minor": 0
      },
      "text/plain": [
       "Best score:   0%|          | 0/5000 [00:00<?, ?it/s]"
      ]
     },
     "metadata": {},
     "output_type": "display_data"
    },
    {
     "name": "stdout",
     "output_type": "stream",
     "text": [
      "фьхмйншнэшзнцйэвхншуфац мвхнзьэймнтжфйнмшяьтйафшёй\n",
      "война и мир самый известный роман льва николаевича\n",
      "Accuracy: 1.000\n"
     ]
    }
   ],
   "source": [
    "# 3-граммы\n",
    "model = MCMC()\n",
    "model.fit(corpus, 3)\n",
    "test_decoded = model.decode(test_encoded)\n",
    "print(test_encoded[:PRINT_LEN])\n",
    "print(test_decoded[:PRINT_LEN])\n",
    "get_accuracy(test_decoded, test);"
   ]
  },
  {
   "cell_type": "code",
   "execution_count": 77,
   "metadata": {},
   "outputs": [
    {
     "data": {
      "application/vnd.jupyter.widget-view+json": {
       "model_id": "6fe1471cc390453db85fea2882c46ebf",
       "version_major": 2,
       "version_minor": 0
      },
      "text/plain": [
       "Best score:   0%|          | 0/5000 [00:00<?, ?it/s]"
      ]
     },
     "metadata": {},
     "output_type": "display_data"
    },
    {
     "name": "stdout",
     "output_type": "stream",
     "text": [
      "фьхмйншнэшзнцйэвхншуфац мвхнзьэймнтжфйнмшяьтйафшёй\n",
      "война и мир самый известный роман льва николаевича\n",
      "Accuracy: 1.000\n"
     ]
    }
   ],
   "source": [
    "# 4-граммы\n",
    "model = MCMC()\n",
    "model.fit(corpus, 4)\n",
    "test_decoded = model.decode(test_encoded)\n",
    "print(test_encoded[:PRINT_LEN])\n",
    "print(test_decoded[:PRINT_LEN])\n",
    "get_accuracy(test_decoded, test);"
   ]
  },
  {
   "cell_type": "code",
   "execution_count": 78,
   "metadata": {},
   "outputs": [
    {
     "data": {
      "application/vnd.jupyter.widget-view+json": {
       "model_id": "dde0ed96e3b147e4be12ec8d96b3e1b6",
       "version_major": 2,
       "version_minor": 0
      },
      "text/plain": [
       "Best score:   0%|          | 0/50000 [00:00<?, ?it/s]"
      ]
     },
     "metadata": {},
     "output_type": "display_data"
    },
    {
     "name": "stdout",
     "output_type": "stream",
     "text": [
      "фьхмйншнэшзнцйэвхншуфац мвхнзьэймнтжфйнмшяьтйафшёй\n",
      "война и мир самый известный роман льва николаевича\n",
      "Accuracy: 1.000\n"
     ]
    }
   ],
   "source": [
    "# 5-граммы\n",
    "model = MCMC()\n",
    "model.fit(corpus, 5)\n",
    "test_decoded = model.decode(test_encoded, 50000)\n",
    "print(test_encoded[:PRINT_LEN])\n",
    "print(test_decoded[:PRINT_LEN])\n",
    "get_accuracy(test_decoded, test);"
   ]
  },
  {
   "attachments": {},
   "cell_type": "markdown",
   "metadata": {},
   "source": [
    "3-граммы,  4-граммы и 5-граммы так же отлично переводят текст, скорее всего это связано с большим размером зашифрованного текста (10000 символов)."
   ]
  },
  {
   "attachments": {},
   "cell_type": "markdown",
   "metadata": {},
   "source": [
    "### 6. Другие применения модели"
   ]
  },
  {
   "attachments": {},
   "cell_type": "markdown",
   "metadata": {},
   "source": [
    "Подозреваю, что модель можно использовать в медицине для поиска антибиотиков путем перестановки аминокислот (существующие антибиотики образуют стационарное распределение)."
   ]
  }
 ],
 "metadata": {
  "kernelspec": {
   "display_name": "ML",
   "language": "python",
   "name": "python3"
  },
  "language_info": {
   "codemirror_mode": {
    "name": "ipython",
    "version": 3
   },
   "file_extension": ".py",
   "mimetype": "text/x-python",
   "name": "python",
   "nbconvert_exporter": "python",
   "pygments_lexer": "ipython3",
   "version": "3.9.16"
  },
  "orig_nbformat": 4
 },
 "nbformat": 4,
 "nbformat_minor": 2
}
