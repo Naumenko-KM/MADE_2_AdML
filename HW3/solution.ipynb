{
 "cells": [
  {
   "cell_type": "code",
   "execution_count": 169,
   "metadata": {},
   "outputs": [],
   "source": [
    "from collections import Counter\n",
    "import random\n",
    "import string\n",
    "import Levenshtein"
   ]
  },
  {
   "cell_type": "code",
   "execution_count": 170,
   "metadata": {},
   "outputs": [],
   "source": [
    "PRINT_LEN = 50"
   ]
  },
  {
   "cell_type": "code",
   "execution_count": null,
   "metadata": {},
   "outputs": [],
   "source": [
    "def get_accuracy(pred, label):\n",
    "    corrects = 0\n",
    "    for i in range(len(pred)):\n",
    "        if pred[i] == label[i]:\n",
    "            corrects += 1\n",
    "    acc = corrects / len(pred)\n",
    "    distance = Levenshtein.distance(pred, label)\n",
    "    print(f'Accuracy: {acc:.3f}')\n",
    "    return acc, distance"
   ]
  },
  {
   "cell_type": "code",
   "execution_count": 172,
   "metadata": {},
   "outputs": [
    {
     "data": {
      "text/plain": [
       "'война и мир самый известный роман льва николаевича'"
      ]
     },
     "execution_count": 172,
     "metadata": {},
     "output_type": "execute_result"
    }
   ],
   "source": [
    "data_path = 'texts/WarAndPeace.txt'\n",
    "with open(data_path, 'r') as f:\n",
    "    corpus = f.read()\n",
    "alphabet = 'абвгдеёжзийклмнопрстуфхцчшщъыьэюя '\n",
    "corpus = corpus.lower().replace('\\n', ' ').replace('\\t', ' ')\n",
    "corpus = ''.join([x for x in corpus if x in alphabet])\n",
    "corpus = ' '.join(corpus.split())\n",
    "corpus[:PRINT_LEN]\n"
   ]
  },
  {
   "attachments": {},
   "cell_type": "markdown",
   "metadata": {},
   "source": [
    "### 1. Базовый частотный метод"
   ]
  },
  {
   "cell_type": "code",
   "execution_count": 173,
   "metadata": {},
   "outputs": [
    {
     "data": {
      "text/plain": [
       "[(' ', 103408), ('о', 61282), ('а', 45209), ('е', 42519), ('и', 35838)]"
      ]
     },
     "execution_count": 173,
     "metadata": {},
     "output_type": "execute_result"
    }
   ],
   "source": [
    "unigrams = Counter(corpus).most_common()\n",
    "unigrams[:5]"
   ]
  },
  {
   "cell_type": "code",
   "execution_count": 174,
   "metadata": {},
   "outputs": [
    {
     "name": "stdout",
     "output_type": "stream",
     "text": [
      "true:    война и мир самый известный роман льва николаевича\n",
      "encoded: пгэбёе еу юеоёучэе цпсоибчэеюгуёбежъпёеб йгжёсп кё\n"
     ]
    }
   ],
   "source": [
    "test = corpus[:10000]\n",
    "\n",
    "unique_chars = list(set(test))\n",
    "unique_chars_shuffled = unique_chars.copy()\n",
    "random.Random(42).shuffle(unique_chars_shuffled)\n",
    "\n",
    "encoder_dict = dict(zip(unique_chars, unique_chars_shuffled))\n",
    "trans_table = str.maketrans(encoder_dict)\n",
    "\n",
    "test_encoded = test.translate(trans_table)\n",
    "encoded_unigrams = Counter(test_encoded).most_common()\n",
    "print('true:   ', test[:PRINT_LEN])\n",
    "print('encoded:', test_encoded[:PRINT_LEN])"
   ]
  },
  {
   "cell_type": "code",
   "execution_count": 175,
   "metadata": {},
   "outputs": [
    {
     "data": {
      "text/plain": [
       "[' ',\n",
       " 'а',\n",
       " 'б',\n",
       " 'в',\n",
       " 'г',\n",
       " 'д',\n",
       " 'е',\n",
       " 'ж',\n",
       " 'з',\n",
       " 'и',\n",
       " 'й',\n",
       " 'к',\n",
       " 'л',\n",
       " 'м',\n",
       " 'н',\n",
       " 'о',\n",
       " 'п',\n",
       " 'р',\n",
       " 'с',\n",
       " 'т',\n",
       " 'у',\n",
       " 'ф',\n",
       " 'х',\n",
       " 'ц',\n",
       " 'ч',\n",
       " 'ш',\n",
       " 'щ',\n",
       " 'ъ',\n",
       " 'ы',\n",
       " 'ь',\n",
       " 'э',\n",
       " 'ю',\n",
       " 'я',\n",
       " 'ё']"
      ]
     },
     "execution_count": 175,
     "metadata": {},
     "output_type": "execute_result"
    }
   ],
   "source": [
    "sorted(list(set(corpus)))"
   ]
  },
  {
   "cell_type": "code",
   "execution_count": 106,
   "metadata": {},
   "outputs": [
    {
     "name": "stdout",
     "output_type": "stream",
     "text": [
      "true:     война и мир самый известный роман льва николаевича\n",
      "encoded:  пгэбёе еу юеоёучэе цпсоибчэеюгуёбежъпёеб йгжёсп кё\n",
      "top  1 : пгэбё   у ю оёучэ  цпсоибчэ югуёб жъпё б йгжёсп кё   Accuracy: 0.162  Levenstain distance: 8333\n",
      "top  2 : поэбё   у ю оёучэ  цпсоибчэ юоуёб жъпё б йожёсп кё   Accuracy: 0.251  Levenstain distance: 7483\n",
      "top  3 : поэбё   у ю оёучэ  цпаоибчэ юоуёб жъпё б йожёап кё   Accuracy: 0.251  Levenstain distance: 7488\n",
      "top  4 : поэбе   у ю оеучэ  цпаоибчэ юоуеб жъпе б йожеап ке   Accuracy: 0.251  Levenstain distance: 7486\n",
      "top  5 : поэие   у ю оеучэ  цпаоиичэ юоуеи жъпе и йожеап ке   Accuracy: 0.251  Levenstain distance: 7476\n",
      "top  6 : поэие н уню оеучэ нцпаоиичэ юоуеи жъпе инйожеапнке   Accuracy: 0.251  Levenstain distance: 7471\n",
      "top  7 : поэие н уню оеучэ нцпаотичэ юоуеи жъпе инйожеапнке   Accuracy: 0.301  Levenstain distance: 6981\n",
      "top  8 : соэие н уню оеучэ нцсаотичэ юоуеи жъсе инйожеаснке   Accuracy: 0.301  Levenstain distance: 6980\n",
      "top  9 : соэие н уню леучэ нцсалтичэ юоуеи жъсе инйожеаснке   Accuracy: 0.301  Levenstain distance: 6977\n",
      "top 10 : соэие н унв леучэ нцсалтичэ воуеи жъсе инйожеаснке   Accuracy: 0.301  Levenstain distance: 6971\n",
      "top 11 : соэие н унв леучэ нцсалтичэ воуеи ръсе инйореаснке   Accuracy: 0.301  Levenstain distance: 6971\n",
      "top 12 : соэие н унв леучэ нцсалтичэ воуеи ръсе инкореаснке   Accuracy: 0.328  Levenstain distance: 6699\n",
      "top 13 : соэие н днв ледчэ нцсалтичэ водеи ръсе инкореаснке   Accuracy: 0.328  Levenstain distance: 6698\n",
      "top 14 : соэие н днв ледчэ нцсалтичэ водеи ръсе инкореаснке   Accuracy: 0.328  Levenstain distance: 6704\n",
      "top 15 : соэие н днв ледчэ нцсалтичэ водеи ръсе инкореаснке   Accuracy: 0.348  Levenstain distance: 6501\n",
      "top 16 : соэие н днв ледчэ нцсалтичэ водеи ръсе инкореаснке   Accuracy: 0.348  Levenstain distance: 6500\n",
      "top 17 : соэие н днв ледчэ нцсалтичэ водеи ръсе инкореаснке   Accuracy: 0.348  Levenstain distance: 6501\n",
      "top 18 : соэие н днв ледчэ нгсалтичэ водеи ръсе инкореаснке   Accuracy: 0.348  Levenstain distance: 6501\n",
      "top 19 : соэие н днв ледьэ нгсалтиьэ водеи ръсе инкореаснке   Accuracy: 0.348  Levenstain distance: 6501\n",
      "top 20 : соэие н днв ледьэ нгсалтиьэ водеи рысе инкореаснке   Accuracy: 0.348  Levenstain distance: 6501\n",
      "top 21 : соэие н днв ледьэ нгсалтиьэ водеи рысе инкореаснзе   Accuracy: 0.348  Levenstain distance: 6501\n",
      "top 22 : соэие н днв ледьэ нгсалтиьэ водеи рысе инкореаснзе   Accuracy: 0.348  Levenstain distance: 6502\n",
      "top 23 : соэие н днв ледьэ нгсалтиьэ водеи рысе инкореаснзе   Accuracy: 0.348  Levenstain distance: 6502\n",
      "top 24 : сойие н днв ледьй нгсалтиьй водеи рысе инкореаснзе   Accuracy: 0.359  Levenstain distance: 6397\n",
      "top 25 : сойие н днв ледьй нгсалтиьй водеи рысе инкореаснзе   Accuracy: 0.368  Levenstain distance: 6315\n",
      "top 26 : сойие н днв ледьй нгсалтиьй водеи рысе инкореаснзе   Accuracy: 0.375  Levenstain distance: 6240\n",
      "top 27 : сойие н днв ледьй нгсалтиьй водеи рысе инкореаснзе   Accuracy: 0.375  Levenstain distance: 6240\n",
      "top 28 : сойие н днв ледьй нгсалтиьй водеи рысе инкореаснзе   Accuracy: 0.375  Levenstain distance: 6241\n",
      "top 29 : сойие н днв ледьй нгсалтиьй водеи рысе инкореаснзе   Accuracy: 0.379  Levenstain distance: 6201\n",
      "top 30 : сойие н днв ледьй нгсалтиьй водеи рысе инкореаснзе   Accuracy: 0.379  Levenstain distance: 6201\n",
      "top 31 : сойие н днв ледьй нгсалтиьй водеи рысе инкореаснзе   Accuracy: 0.379  Levenstain distance: 6201\n",
      "top 32 : сойие н днв ледьй нгсалтиьй водеи рысе инкореаснзе   Accuracy: 0.381  Levenstain distance: 6181\n",
      "top 33 : сойие н днв ледьй нгсалтиьй водеи рысе инкореаснзе   Accuracy: 0.381  Levenstain distance: 6179\n",
      "top 34 : сойие н днв ледьй нгсалтиьй водеи рысе инкореаснзе   Accuracy: 0.382  Levenstain distance: 6177\n",
      "top 35 : сойие н днв ледьй нгсалтиьй водеи рысе инкореаснзе   Accuracy: 0.382  Levenstain distance: 6177\n",
      "top 36 : сойие н днв ледьй нгсалтиьй водеи рысе инкореаснзе   Accuracy: 0.382  Levenstain distance: 6177\n",
      "top 37 : сойие н днв ледьй нгсалтиьй водеи рысе инкореаснзе   Accuracy: 0.382  Levenstain distance: 6177\n",
      "top 38 : сойие н днв ледьй нгсалтиьй водеи рысе инкореаснзе   Accuracy: 0.382  Levenstain distance: 6177\n",
      "top 39 : сойие н днв ледьй нгсалтиьй водеи рысе инкореаснзе   Accuracy: 0.382  Levenstain distance: 6177\n",
      "top 40 : сойие н днв ледьй нгсалтиьй водеи рысе инкореаснзе   Accuracy: 0.382  Levenstain distance: 6177\n"
     ]
    }
   ],
   "source": [
    "print('true:    ', test[:PRINT_LEN])\n",
    "print('encoded: ', test_encoded[:PRINT_LEN])\n",
    "for i in range(40):\n",
    "    decoder_dict = dict(zip([x[0] for x in encoded_unigrams[:i + 1]], [x[0] for x in unigrams[:i + 1]]))\n",
    "    trans_table = str.maketrans(decoder_dict)\n",
    "    test_decoded = test_encoded.translate(trans_table)\n",
    "    print(f'top {i + 1:2} :', test_decoded[:PRINT_LEN], end='   ')\n",
    "    get_accuracy(test, test_decoded);"
   ]
  },
  {
   "cell_type": "code",
   "execution_count": 107,
   "metadata": {},
   "outputs": [
    {
     "data": {
      "text/plain": [
       "{'е': ' ',\n",
       " 'г': 'о',\n",
       " 'с': 'а',\n",
       " 'ё': 'е',\n",
       " 'б': 'и',\n",
       " ' ': 'н',\n",
       " 'и': 'т',\n",
       " 'п': 'с',\n",
       " 'о': 'л',\n",
       " 'ю': 'в',\n",
       " 'ж': 'р',\n",
       " 'й': 'к',\n",
       " 'у': 'д',\n",
       " 'з': 'м',\n",
       " 'ы': 'у',\n",
       " 'ф': 'п',\n",
       " 'н': 'я',\n",
       " 'ц': 'г',\n",
       " 'ч': 'ь',\n",
       " 'ъ': 'ы',\n",
       " 'к': 'з',\n",
       " 'р': 'б',\n",
       " 'ш': 'ч',\n",
       " 'э': 'й',\n",
       " 'т': 'ж',\n",
       " 'я': 'ш',\n",
       " 'щ': 'х',\n",
       " 'а': 'ю',\n",
       " 'м': 'ц',\n",
       " 'в': 'э',\n",
       " 'ь': 'щ',\n",
       " 'д': 'ф',\n",
       " 'х': 'ё',\n",
       " 'л': 'ъ'}"
      ]
     },
     "execution_count": 107,
     "metadata": {},
     "output_type": "execute_result"
    }
   ],
   "source": [
    "decoder_dict"
   ]
  },
  {
   "attachments": {},
   "cell_type": "markdown",
   "metadata": {},
   "source": [
    "### 2. Биграммный частотный метод"
   ]
  },
  {
   "cell_type": "code",
   "execution_count": 108,
   "metadata": {},
   "outputs": [
    {
     "name": "stdout",
     "output_type": "stream",
     "text": [
      "bigrams: 796\n"
     ]
    },
    {
     "data": {
      "text/plain": [
       "[('о ', 13316), ('и ', 11398), ('а ', 10596), ('е ', 10040), (' с', 9863)]"
      ]
     },
     "execution_count": 108,
     "metadata": {},
     "output_type": "execute_result"
    }
   ],
   "source": [
    "bigrams = Counter(corpus[x:x+2] for x in range(len(corpus) - 1)).most_common()\n",
    "print(f'bigrams: {len(bigrams)}')\n",
    "bigrams[:5]"
   ]
  },
  {
   "cell_type": "code",
   "execution_count": 109,
   "metadata": {},
   "outputs": [],
   "source": [
    "unique_chars = Counter(corpus[x:x+2] for x in range(len(corpus) - 1)).most_common() \n",
    "unique_chars = [x[0] for x in unique_chars]\n",
    "unique_chars_shuffled = unique_chars.copy()\n",
    "random.Random(42).shuffle(unique_chars_shuffled)\n",
    "\n",
    "encoder_dict = dict(zip(unique_chars, unique_chars_shuffled))\n",
    "\n",
    "test_encoded = ''.join([encoder_dict[test[i:i+2]] for i in range(0, len(test), 2)])\n",
    "encoded_bigrams = Counter(test_encoded[x:x+2] for x in range(len(test_encoded) - 1)).most_common() \n",
    "print(test[:100])\n",
    "print(test_encoded[:100])"
   ]
  },
  {
   "cell_type": "code",
   "execution_count": 110,
   "metadata": {},
   "outputs": [
    {
     "name": "stdout",
     "output_type": "stream",
     "text": [
      "true:     война и мир самый известный роман льва николаевича\n",
      "encoded:  пгэбёе еу юеоёучэе цпсоибчэеюгуёбежъпёеб йгжёсп кё\n",
      "top  1 : пгэбёе еу юеоёучэе цпсоибчэеюгуёбежъпёеб йгжёсп кё   Accuracy: 0.000  Levenstain distance: 8835\n",
      "top  2 : пгэбёе еу юеоёучэе цпсоибчэеюгуёбежъпёеб йгжёсп кё   Accuracy: 0.000  Levenstain distance: 8835\n",
      "top  3 : пгэбёе еу юеоёучэе цпсоибчэеюгуёбежъпёеб йгжёсп кё   Accuracy: 0.000  Levenstain distance: 8835\n",
      "top  4 : пгэбёе еу юеоёучэе цпсоибчэеюгуёбежъпёеб йгжёсп кё   Accuracy: 0.000  Levenstain distance: 8835\n",
      "top  5 : пгэбёе еу юеоёучэе цпсоибчэеюгуёбежъпёеб йгжёсп кё   Accuracy: 0.000  Levenstain distance: 8835\n",
      "top  6 : пгэбёе еу юеоёучэе цпсоибчэеюгуёбежъпёеб йгжёсп кё   Accuracy: 0.000  Levenstain distance: 8835\n",
      "top  7 : пгэбёе еу юеоёучэе цпсоибчэеюгуёбежъпёеб йгжёсп кё   Accuracy: 0.000  Levenstain distance: 8835\n",
      "top  8 : пгэбёе еу юеоёучэе цпсоибчэеюгуёбежъпёеб йгжёсп кё   Accuracy: 0.000  Levenstain distance: 8835\n",
      "top  9 : пгэбёе еу юеоёучэе цпсоибчэеюгуёбежъпёеб йгжёсп кё   Accuracy: 0.000  Levenstain distance: 8835\n",
      "top 10 : пгэбёе еу юеоёучэе цпсоибчэеюгуёбежъпёеб йгжёсп кё   Accuracy: 0.000  Levenstain distance: 8835\n",
      "top 11 : пгэбёе еу юеоёучэе цпсоибчэеюгуёбежъпёеб йгжёсп кё   Accuracy: 0.000  Levenstain distance: 8835\n",
      "top 12 : пгэбёе еу юеоёучэе цпсоибчэеюгуёбежъпёеб йгжёсп кё   Accuracy: 0.000  Levenstain distance: 8835\n",
      "top 13 : пгэбёе еу юеоёучэе цпсоибчэеюгуёбежъпёеб йгжёсп кё   Accuracy: 0.000  Levenstain distance: 8835\n",
      "top 14 : пгэбёе еу юеоёучэе цпсоибчэеюгуёбежъпёеб йгжёсп кё   Accuracy: 0.000  Levenstain distance: 8835\n",
      "top 15 : пгэбёе еу юеоёучэе цпсоибчэеюгуёбежъпёеб йгжёсп кё   Accuracy: 0.000  Levenstain distance: 8835\n",
      "top 16 : пгэбёе еу юеоёучэе цпсоибчэеюгуёбежъпёеб йгжёсп кё   Accuracy: 0.000  Levenstain distance: 8835\n",
      "top 17 : пгэбёе еу юеоёучэе цпсоибчэеюгуёбежъпёеб йгжёсп кё   Accuracy: 0.000  Levenstain distance: 8835\n",
      "top 18 : пгэбёе еу юеоёучэе цпсоибчэеюгуёбежъпёеб йгжёсп кё   Accuracy: 0.000  Levenstain distance: 8835\n",
      "top 19 : пгэбёе еу юеоёучэе цпсоибчэеюгуёбежъпёеб йгжёсп кё   Accuracy: 0.000  Levenstain distance: 8835\n",
      "top 20 : пгэбёе еу юеоёучэе цпсоибчэеюгуёбежъпёеб йгжёсп кё   Accuracy: 0.000  Levenstain distance: 8835\n"
     ]
    }
   ],
   "source": [
    "print('true:    ', test[:PRINT_LEN])\n",
    "print('encoded: ', test_encoded[:PRINT_LEN])\n",
    "for i in range(20):\n",
    "    decoder_dict = dict(zip([x[0] for x in encoded_bigrams[:i + 1]], [x[0] for x in bigrams[:i + 1]]))\n",
    "    test_decoded = ''.join([decoder_dict[test_encoded[i:i+2]] if test_encoded[i:i+2] in decoder_dict else test_encoded[i:i+2] for i in range(0, len(test_encoded), 2)])\n",
    "    print(f'top {i + 1:2} :', test_decoded[:PRINT_LEN], end='   ')\n",
    "    get_accuracy(test, test_decoded);"
   ]
  },
  {
   "cell_type": "code",
   "execution_count": 111,
   "metadata": {},
   "outputs": [
    {
     "data": {
      "text/plain": [
       "{'р': 'о ',\n",
       " 'л': 'и ',\n",
       " 'ц': 'а ',\n",
       " 'д': 'по',\n",
       " 'е': ' н',\n",
       " ' ': ' в',\n",
       " 'а': ' о',\n",
       " 'т': 'я ',\n",
       " 'в': ' к',\n",
       " 'з': ' и',\n",
       " 'ы': 'ст',\n",
       " 'ш': 'ал',\n",
       " 'п': 'на',\n",
       " 'й': 'го',\n",
       " 'с': 'не'}"
      ]
     },
     "execution_count": 111,
     "metadata": {},
     "output_type": "execute_result"
    }
   ],
   "source": [
    "decoder_dict"
   ]
  },
  {
   "attachments": {},
   "cell_type": "markdown",
   "metadata": {},
   "source": [
    "### 3. MCMC-сэмплированиe"
   ]
  },
  {
   "cell_type": "code",
   "execution_count": 112,
   "metadata": {},
   "outputs": [],
   "source": [
    "import numpy as np\n",
    "import pandas as pd"
   ]
  },
  {
   "cell_type": "code",
   "execution_count": null,
   "metadata": {},
   "outputs": [],
   "source": [
    "test = 'роста как пишет мне мой староста донесенья покойерп она хорошей фамилии и богата всё что мне нужно и он с теми свободными и фамильярными грациозными движениями которые его отличали взял за руку фрейлину поцеловал ее и поцеловав помахал фрейлинскою рукой развалившись на креслах и глядя в сторону подождите сказала анна павловна соображая я нынче же поговорю болконский с лизой женой молодого болконского и может быть это уладится я в вашем семействе начну обучаться ремеслу старой девки гостиная анны павловны начала понемногу наполняться приехала высшая знать петербурга люди самые разнородные по возрастам и характерам но одинаковые по обществу в каком все жили приехала дочь князя василия красавица элен заехавшая за отцом чтобы с ним вместе ехать на праздник посланника она была в шифре и бальном платье приехала и известная как самая обворожительная женщина в петербурге молодая маленькая княгиня болконская прошлую зиму вышедшая замуж и теперь'\n"
   ]
  },
  {
   "cell_type": "code",
   "execution_count": 154,
   "metadata": {},
   "outputs": [],
   "source": [
    "test = 'роста как пишет мне мой староста донесенья покойерп она хорошей фамилии и богата всё что мне нужно и он с теми свободными и фамильярными грациозными движениями которые его отличали взял за руку фрейлину поцеловал ее и поцеловав помахал фрейлинскою рукой развалившись на креслах и глядя в сторону подождите сказала анна павловна соображая я нынче же поговорю болконский с лизой женой молодого болконского и может быть это уладится я в вашем семействе начну обучаться ремеслу старой девки гостиная анны павловны начала понемногу наполняться приехала высшая знать петербурга люди самые разнородные по возрастам и характерам но одинаковые по обществу в каком все жили приехала дочь князя василия красавица элен заехавшая за отцом чтобы с ним вместе ехать на праздник посланника она была в шифре и бальном платье приехала и известная как самая обворожительная женщина в петербурге молодая маленькая княгиня болконская прошлую зиму вышедшая замуж и теперь'\n",
    "test_encoded = 'ъм кзвэзэвшлрчкваычвамёв кзъм кзвомыч чыясвшмэмёчъшвмызвимъмрчёвхзалщллвлвдмгзкзвп нвекмваычвытьымвлвмыв вкчалв пмдмоыюалвлвхзалщясъыюалвгъзблмуыюалвопльчылсалвэмкмъючвчгмвмкщлезщлвпусщвузвътэтвхъчёщлытвшмбчщмпзщвччвлвшмбчщмпзпвшмазизщвхъчёщлы эмйвътэмёвъзупзщлпрл явызвэъч щзивлвгщсосвпв кмъмытвшмомьолкчв эзузщзвзыызвшзпщмпызв ммдъзьзсвсвыюыечвьчвшмгмпмъйвдмщэмы элёв вщлумёвьчымёвамщмомгмвдмщэмы эмгмвлвамьчквдюкявцкмвтщзолк свсвпвпзрчав чачё кпчвызеытвмдтезкя свъчач щтв кзъмёвочпэлвгм клызсвзыыювшзпщмпыювызезщзвшмычаымгтвызшмщыскя свшълчизщзвпю рзсвуызкявшчкчъдтъгзвщйолв заючвъзуымъмоыючвшмвпмуъз кзавлвизъзэкчъзавымвмолызэмпючвшмвмдфч кптвпвэзэмавп чвьлщлвшълчизщзвомеявэысусвпз лщлсвэъз зплбзвцщчывузчизпрзсвузвмкбмавекмдюв вылавпач кчвчизкявызвшъзуоылэвшм щзыылэзвмызвдющзвпврлхъчвлвдзщяымавшщзкячвшълчизщзвлвлупч кызсвэзэв зазсвмдпмъмьлкчщяызсвьчыфлызвпвшчкчъдтъгчвамщмозсвазщчыяэзсвэысглысвдмщэмы эзсвшъмрщтйвулатвпюрчорзсвузатьвлвкчшчъя'"
   ]
  },
  {
   "cell_type": "code",
   "execution_count": 113,
   "metadata": {},
   "outputs": [],
   "source": [
    "# corpus = 'abcadaddegfc  abcada cbaddcfffff'"
   ]
  },
  {
   "cell_type": "code",
   "execution_count": 192,
   "metadata": {},
   "outputs": [],
   "source": []
  },
  {
   "cell_type": "code",
   "execution_count": 193,
   "metadata": {},
   "outputs": [
    {
     "name": "stdout",
     "output_type": "stream",
     "text": [
      "true: 78586.85798152107\n",
      "true  война и мир самый известный роман льва николаевича\n",
      "      пгэбёе еу юеоёучэе цпсоибчэеюгуёбежъпёеб йгжёсп кё\n",
      "    0 пгэбёе еу юеоёучэе цпсоибчэеюгуёбежъпёеб йгжёсп кё 41073.719 41073.719 0.000 Accuracy: 0.000  Levenstain distance: 8835.000\n",
      " 2000 еьцпянонжоднйяжъцнотесйлпъцндьжяпныкеянпобьыясеоия 49373.997 33726.398 -15647.598 Accuracy: 0.000  Levenstain distance: 8924.000\n",
      " 4000 еьцпянонжоднйяжъцнотесйлпъцндьжяпныкеянпобьыясеоия 49373.997 36839.619 -12534.378 Accuracy: 0.000  Levenstain distance: 8924.000\n",
      " 6000 еьцпянонжоднйяжъцнотесйлпъцндьжяпныкеянпобьыясеоия 49373.997 23687.242 -25686.755 Accuracy: 0.000  Levenstain distance: 8924.000\n",
      " 8000 ирхыщешеошдекщоюхешжи куыюхедрощыенлищеыштрнщ ишвщ 52646.030 36672.698 -15973.332 Accuracy: 0.015  Levenstain distance: 8738.000\n",
      "10000 ирхыщешеошдекщоюхешжи куыюхедрощыенлищеыштрнщ ишвщ 52646.030 29890.976 -22755.054 Accuracy: 0.015  Levenstain distance: 8738.000\n",
      "12000 цолкаэсэтсрэеатщлэсуцнечкщлэротакэдзцаэксыоданцсйа 55869.165 30687.177 -25181.988 Accuracy: 0.235  Levenstain distance: 7582.000\n",
      "14000 цолкаэсэтсрэеатщлэсуцнечкщлэротакэдзцаэксыоданцсйа 55869.165 32451.768 -23417.397 Accuracy: 0.235  Levenstain distance: 7582.000\n",
      "16000 цолкаэсэтсрэеатщлэсуцнечкщлэротакэдзцаэксыоданцсйа 55869.165 30401.834 -25467.331 Accuracy: 0.235  Levenstain distance: 7582.000\n",
      "18000 цолкаэсэтсрэеатщлэсуцнечкщлэротакэдзцаэксыоданцсйа 55869.165 30384.151 -25485.014 Accuracy: 0.235  Levenstain distance: 7582.000\n",
      "20000 цолкаэсэтсрэеатщлэсуцнечкщлэротакэдзцаэксыоданцсйа 55869.165 21526.864 -34342.301 Accuracy: 0.235  Levenstain distance: 7582.000\n",
      "22000 цолкаэсэтсрэеатщлэсуцнечкщлэротакэдзцаэксыоданцсйа 55869.165 28507.078 -27362.087 Accuracy: 0.235  Levenstain distance: 7582.000\n",
      "24000 цолкаэсэтсрэеатщлэсуцнечкщлэротакэдзцаэксыоданцсйа 55869.165 30001.968 -25867.197 Accuracy: 0.235  Levenstain distance: 7582.000\n",
      "26000 цолкаэсэтсрэеатщлэсуцнечкщлэротакэдзцаэксыоданцсйа 55869.165 40356.521 -15512.644 Accuracy: 0.235  Levenstain distance: 7582.000\n",
      "28000 цолкаэсэтсрэеатщлэсуцнечкщлэротакэдзцаэксыоданцсйа 55869.165 33016.563 -22852.603 Accuracy: 0.235  Levenstain distance: 7582.000\n",
      "30000 цолкаэсэтсрэеатщлэсуцнечкщлэротакэдзцаэксыоданцсйа 55869.165 41164.981 -14704.184 Accuracy: 0.235  Levenstain distance: 7582.000\n",
      "32000 цолкаэсэтсрэеатщлэсуцнечкщлэротакэдзцаэксыоданцсйа 55869.165 28774.488 -27094.677 Accuracy: 0.235  Levenstain distance: 7582.000\n",
      "34000 цолкаэсэтсрэеатщлэсуцнечкщлэротакэдзцаэксыоданцсйа 55869.165 25602.896 -30266.269 Accuracy: 0.235  Levenstain distance: 7582.000\n",
      "36000 цолкаэсэтсрэеатщлэсуцнечкщлэротакэдзцаэксыоданцсйа 55869.165 37777.765 -18091.400 Accuracy: 0.235  Levenstain distance: 7582.000\n",
      "38000 цолкаэсэтсрэеатщлэсуцнечкщлэротакэдзцаэксыоданцсйа 55869.165 30910.883 -24958.282 Accuracy: 0.235  Levenstain distance: 7582.000\n",
      "true  война и мир самый известный роман льва николаевича\n",
      "true  цолкаэсэтсрэеатщлэсуцнечкщлэротакэдзцаэксыоданцсйа\n"
     ]
    }
   ],
   "source": [
    "freq_dict = Counter(corpus)\n",
    "freq_dict = Counter(corpus[x:x+2] for x in range(len(corpus) - 1))\n",
    "tokens_count = np.array(list(freq_dict.values())).sum()\n",
    "for key in freq_dict.keys():\n",
    "    freq_dict[key] = np.log(freq_dict[key] / tokens_count)\n",
    "    # freq_dict[key] = np.log(freq_dict[key]) # / tokens_count\n",
    "    # freq_dict[key] = freq_dict[key]\n",
    "freq_dict;\n",
    "\n",
    "\n",
    "def change_text(text):\n",
    "    token_1 = random.choice(vocab)[0]\n",
    "    token_2 = random.choice(vocab)[0]\n",
    "    encoder_dict = {\n",
    "        token_1: token_2,\n",
    "        token_2: token_1\n",
    "        }\n",
    "    trans_table = str.maketrans(encoder_dict)\n",
    "    text_new = text.translate(trans_table)\n",
    "    return text_new\n",
    "\n",
    "def get_score(text, freq_dict):\n",
    "    score = 0\n",
    "    for i in range(len(text) - 1):\n",
    "        cur_token = text[i:i + 2]\n",
    "        score += freq_dict.get(cur_token, 0)\n",
    "        # score += np.log(freq_dict.get(cur_token, 1))\n",
    "    # return np.log(score)\n",
    "    return score\n",
    "\n",
    "\n",
    "num_iters = 40000\n",
    "\n",
    "cur_text = test_encoded\n",
    "best_text = test_encoded\n",
    "best_score = get_score(cur_text, freq_dict)\n",
    "print('true:', get_score(test, freq_dict))\n",
    "print('true ', test[:50])\n",
    "print('     ', test_encoded[:50])\n",
    "for i in range(num_iters):\n",
    "    new_text = change_text(cur_text)\n",
    "    cur_score = get_score(new_text, freq_dict)\n",
    "    if cur_score >= best_score:\n",
    "        best_score = cur_score\n",
    "        best_text = cur_text\n",
    "    # elif np.log(random.random()) < cur_score - best_score:\n",
    "    elif np.log(random.random()) < best_score - cur_score:\n",
    "        cur_text = new_text\n",
    "        \n",
    "    if i % 2000 == 0:\n",
    "        print(f'{i:5} {best_text[:50]} {best_score:.3f} {cur_score:.3f} {cur_score - best_score:.3f}', end=' ')\n",
    "        get_accuracy(test, best_text);\n",
    "print('true ', test[:50])\n",
    "print('true ', best_text[:50])\n",
    "# cur_text\n"
   ]
  },
  {
   "cell_type": "code",
   "execution_count": 168,
   "metadata": {},
   "outputs": [
    {
     "name": "stdout",
     "output_type": "stream",
     "text": [
      "Accuracy: 0.277  Levenstain distance: 685\n"
     ]
    }
   ],
   "source": [
    "get_accuracy(test, best_text);"
   ]
  },
  {
   "cell_type": "code",
   "execution_count": 207,
   "metadata": {},
   "outputs": [
    {
     "name": "stdout",
     "output_type": "stream",
     "text": [
      "true: 78586.85798152107\n",
      "true  война и мир самый известный роман льва николаевича\n",
      "      пгэбёе еу юеоёучэе цпсоибчэеюгуёбежъпёеб йгжёсп кё\n",
      "    0 пгэбёе еу юеоёучэе цпсоибчэеюгуёбежъпёеб йгжёсп кё 41569.641 41569.641 0.000 Accuracy: 0.000  Levenstain distance: 8829.000\n",
      " 2000 война е мер самый езвистный роман льва неколаивеча 71627.801 77780.445 6152.644 Accuracy: 0.867  Levenstain distance: 1334.000\n",
      " 4000 война и мир самый известный роман льва николаевича 76691.166 78586.858 1895.692 Accuracy: 1.000  Levenstain distance: 0.000\n"
     ]
    },
    {
     "ename": "KeyboardInterrupt",
     "evalue": "",
     "output_type": "error",
     "traceback": [
      "\u001b[0;31m---------------------------------------------------------------------------\u001b[0m",
      "\u001b[0;31mKeyboardInterrupt\u001b[0m                         Traceback (most recent call last)",
      "Cell \u001b[0;32mIn[207], line 38\u001b[0m\n\u001b[1;32m     36\u001b[0m \u001b[39mfor\u001b[39;00m i \u001b[39min\u001b[39;00m \u001b[39mrange\u001b[39m(num_iters):\n\u001b[1;32m     37\u001b[0m     new_text \u001b[39m=\u001b[39m change_text(cur_text)\n\u001b[0;32m---> 38\u001b[0m     new_score \u001b[39m=\u001b[39m get_score(new_text, freq_dict)\n\u001b[1;32m     39\u001b[0m     \u001b[39mif\u001b[39;00m new_score \u001b[39m>\u001b[39m\u001b[39m=\u001b[39m best_score:\n\u001b[1;32m     40\u001b[0m         best_score \u001b[39m=\u001b[39m new_score\n",
      "Cell \u001b[0;32mIn[207], line 24\u001b[0m, in \u001b[0;36mget_score\u001b[0;34m(text, freq_dict)\u001b[0m\n\u001b[1;32m     22\u001b[0m \u001b[39mfor\u001b[39;00m i \u001b[39min\u001b[39;00m \u001b[39mrange\u001b[39m(\u001b[39mlen\u001b[39m(text) \u001b[39m-\u001b[39m \u001b[39m1\u001b[39m):\n\u001b[1;32m     23\u001b[0m     cur_token \u001b[39m=\u001b[39m text[i:i \u001b[39m+\u001b[39m \u001b[39m2\u001b[39m]\n\u001b[0;32m---> 24\u001b[0m     score \u001b[39m+\u001b[39m\u001b[39m=\u001b[39m freq_dict\u001b[39m.\u001b[39mget(cur_token, \u001b[39m0\u001b[39m)\n\u001b[1;32m     25\u001b[0m \u001b[39mreturn\u001b[39;00m score\n",
      "\u001b[0;31mKeyboardInterrupt\u001b[0m: "
     ]
    }
   ],
   "source": [
    "freq_dict = Counter(corpus)\n",
    "freq_dict = Counter(corpus[x:x+2] for x in range(len(corpus) - 1))\n",
    "tokens_count = np.array(list(freq_dict.values())).sum()\n",
    "for key in freq_dict.keys():\n",
    "    freq_dict[key] = np.log(freq_dict[key]) # / tokens_count\n",
    "freq_dict;\n",
    "\n",
    "\n",
    "def change_text(text):\n",
    "    token_1 = random.choice(vocab)[0]\n",
    "    token_2 = random.choice(vocab)[0]\n",
    "    encoder_dict = {\n",
    "        token_1: token_2,\n",
    "        token_2: token_1\n",
    "        }\n",
    "    trans_table = str.maketrans(encoder_dict)\n",
    "    text_new = text.translate(trans_table)\n",
    "    return text_new\n",
    "\n",
    "def get_score(text, freq_dict):\n",
    "    score = 0\n",
    "    for i in range(len(text) - 1):\n",
    "        cur_token = text[i:i + 2]\n",
    "        score += freq_dict.get(cur_token, 0)\n",
    "    return score\n",
    "\n",
    "\n",
    "num_iters = 10000\n",
    "\n",
    "cur_text = test_encoded\n",
    "best_text = cur_text = test_encoded\n",
    "best_score = cur_score = get_score(cur_text, freq_dict)\n",
    "print('true:', get_score(test, freq_dict))\n",
    "print('true ', test[:50])\n",
    "print('     ', test_encoded[:50])\n",
    "for i in range(num_iters):\n",
    "    new_text = change_text(cur_text)\n",
    "    new_score = get_score(new_text, freq_dict)\n",
    "    if new_score >= best_score:\n",
    "        best_score = new_score\n",
    "        best_text = new_text\n",
    "    if new_score >= cur_score:\n",
    "        cur_score = new_score\n",
    "        cur_text = new_text\n",
    "    elif np.log(random.random()) < (new_score - cur_score):\n",
    "        cur_text = new_text\n",
    "    if i % 2000 == 0:\n",
    "        print(f'{i:5} {best_text[:50]} {new_score:.3f} {cur_score:.3f} {cur_score - new_score:.3f}', end=' ')\n",
    "        get_accuracy(test, best_text);\n",
    "print('true ', test[:50])\n",
    "print('true ', best_text[:50])\n",
    "# cur_text\n"
   ]
  },
  {
   "cell_type": "code",
   "execution_count": 213,
   "metadata": {},
   "outputs": [
    {
     "data": {
      "text/plain": [
       "'онхвшцсшцв вмошжтпъгхижсбшвхвшдтфмвшжтпъгхижсбшмолнмшкшзмтйтшнттщчожвршлтмтпсбшхойлтшдптфвмгмишнлтпоошцнойтшцсшцношн охгхвшдпгцвхижтшвшдтхкфвмошъглнвъгхижсбшщгххшугшдтнхо жоошфомцопмтошуг гжвошлкпнгшатмршлтжофжтшршжвфойтшжоштщочге'"
      ]
     },
     "execution_count": 213,
     "metadata": {},
     "output_type": "execute_result"
    }
   ],
   "source": [
    "test_2 = '←⇠⇒↟↹↷⇊↹↷↟↤↟↨←↹↝⇛⇯↳⇴⇒⇈↝⇊↾↹↟⇒↟↹⇷⇛⇞↨↟↹↝⇛⇯↳⇴⇒⇈↝⇊↾↹↨←⇌⇠↨↹⇙↹⇸↨⇛↙⇛↹⇠⇛⇛↲⇆←↝↟↞↹⇌⇛↨⇛⇯⇊↾↹⇒←↙⇌⇛↹⇷⇯⇛⇞↟↨⇴↨⇈↹⇠⇌⇛⇯←←↹↷⇠←↙⇛↹↷⇊↹↷⇠←↹⇠↤←⇒⇴⇒↟↹⇷⇯⇴↷↟⇒⇈↝⇛↹↟↹⇷⇛⇒⇙⇞↟↨←↹↳⇴⇌⇠↟↳⇴⇒⇈↝⇊↾↹↲⇴⇒⇒↹⇰⇴↹⇷⇛⇠⇒←↤↝←←↹⇞←↨↷←⇯↨⇛←↹⇰⇴↤⇴↝↟←↹⇌⇙⇯⇠⇴↹↘⇛↨↞↹⇌⇛↝←⇞↝⇛↹↞↹↝↟⇞←↙⇛↹↝←↹⇛↲←⇆⇴⇏'\n",
    "test_2_dict = {elem: vocab[i] for i, elem in enumerate(set(test_2))}\n",
    "trans_table = str.maketrans(test_2_dict)\n",
    "test_2 = test_2.translate(trans_table)\n",
    "test_2"
   ]
  },
  {
   "cell_type": "code",
   "execution_count": 324,
   "metadata": {},
   "outputs": [
    {
     "name": "stdout",
     "output_type": "stream",
     "text": [
      "    0 онхвшцсшцв вмошжтпъгхижсбшвхвшдтфмвшжтпъгхижсбшмолнмшкшзмтйтшнттщеожвршлтмтпсбшхойлтшдптфвмгмишнлтпоошцнойтшцсшцношн охгхвшдпгцвхижтшвшдтхкфвмошъглнвъгхижсбшщгххшугшдтнхо жоошфомцопмтошуг гжвошлкпнгшатмршлтжофжтшршжвфойтшжоштщоегч\n",
      "10000 если вд вимите норжальнды или почти норжальнды текст у этого сообщения которды легко прочитать скорее всего вд все смелали правильно и получите жаксижальнды балл за послемнее четвертое замание курса хотя конечно я ничего не обещаш\n",
      "20000 если вд вимите норжальнды или почти норжальнды текст у этого сообщения которды легко прочитать скорее всего вд все смелали правильно и получите жаксижальнды балл за послемнее четвертое замание курса хотя конечно я ничего не обещаш\n",
      "30000 если вд вимите норжальнды или почти норжальнды текст у этого сообщения которды легко прочитать скорее всего вд все смелали правильно и получите жаксижальнды балл за послемнее четвертое замание курса хотя конечно я ничего не обещаш\n",
      "40000 если вд вимите норжальнды или почти норжальнды текст у этого сообщения которды легко прочитать скорее всего вд все смелали правильно и получите жаксижальнды балл за послемнее четвертое замание курса хотя конечно я ничего не обещаш\n",
      "50000 если вы вимите норжальный или подти норжальный текст у этого сообщения который легко продитать скорее всего вы все смелали правильно и полудите жаксижальный балл за послемнее детвертое замание курса хотя конедно я нидего не обещаш\n",
      "60000 если вы вимите норзальный или подти норзальный текст у этого сообщения который легко продитать скорее всего вы все смелали правильно и полудите заксизальный балл ча послемнее детвертое чамание курса хотя конедно я нидего не обещаш\n",
      "70000 если вы вимите норзальный или подти норзальный текст у этого сообщения который легко продитать скорее всего вы все смелали правильно и полудите заксизальный балл ча послемнее детвертое чамание курса хотя конедно я нидего не обещаж\n",
      "80000 если вы вимите норжальный или подти норжальный текст у этого соочшения который легко продитать скорее всего вы все смелали правильно и полудите жаксижальный чалл за послемнее детвертое замание курса ботя конедно я нидего не очешах\n",
      "90000 если вы вимите норжальный или подти норжальный текст у этого соочшения который легко продитать скорее всего вы все смелали правильно и полудите жаксижальный чалл за послемнее детвертое замание курса ботя конедно я нидего не очешах\n",
      "true  если вы вимите норжальный или подти норжальный текст у этого соочшения который легко продитать скорее всего вы все смелали правильно и полудите жаксижальный чалл за послемнее детвертое замание курса ботя конедно я нидего не очешах\n"
     ]
    }
   ],
   "source": [
    "freq_dict = Counter(corpus)\n",
    "freq_dict = Counter(corpus[x:x+2] for x in range(len(corpus) - 1))\n",
    "tokens_count = np.array(list(freq_dict.values())).sum()\n",
    "for key in freq_dict.keys():\n",
    "    freq_dict[key] = np.log(freq_dict[key]) # / tokens_count\n",
    "freq_dict;\n",
    "\n",
    "\n",
    "def change_text(text):\n",
    "    token_1 = random.choice(vocab)[0]\n",
    "    token_2 = random.choice(vocab)[0]\n",
    "    encoder_dict = {\n",
    "        token_1: token_2,\n",
    "        token_2: token_1\n",
    "        }\n",
    "    trans_table = str.maketrans(encoder_dict)\n",
    "    text_new = text.translate(trans_table)\n",
    "    return text_new\n",
    "\n",
    "def get_score(text, freq_dict):\n",
    "    score = 0\n",
    "    for i in range(len(text) - 1):\n",
    "        cur_token = text[i:i + 2]\n",
    "        score += freq_dict.get(cur_token, 0)\n",
    "    return score\n",
    "\n",
    "\n",
    "num_iters = 100000\n",
    "\n",
    "best_text = cur_text = test_2\n",
    "best_score = cur_score = get_score(cur_text, freq_dict)\n",
    "for i in range(num_iters):\n",
    "    new_text = change_text(cur_text)\n",
    "    new_score = get_score(new_text, freq_dict)\n",
    "    if new_score >= best_score:\n",
    "        best_score = new_score\n",
    "        best_text = new_text\n",
    "    if new_score >= cur_score:\n",
    "        cur_score = new_score\n",
    "        cur_text = new_text\n",
    "    elif np.log(random.random()) <= (new_score - cur_score):\n",
    "        cur_text = new_text\n",
    "    if i % 10000 == 0:\n",
    "        print(f'{i:5} {best_text[:]}')\n",
    "        # print(f'{i:5} {best_text[:50]} {new_score:.3f} {cur_score:.3f} {cur_score - new_score:.3f}', end=' ')\n",
    "        # get_accuracy(test, best_text);\n",
    "print('true ', best_text)\n",
    "# cur_text\n"
   ]
  },
  {
   "cell_type": "code",
   "execution_count": 316,
   "metadata": {},
   "outputs": [
    {
     "data": {
      "text/plain": [
       "0.797619295202445"
      ]
     },
     "execution_count": 316,
     "metadata": {},
     "output_type": "execute_result"
    }
   ],
   "source": [
    "random.random()"
   ]
  },
  {
   "cell_type": "code",
   "execution_count": 118,
   "metadata": {},
   "outputs": [
    {
     "data": {
      "text/plain": [
       "-2.731934305799938"
      ]
     },
     "execution_count": 118,
     "metadata": {},
     "output_type": "execute_result"
    }
   ],
   "source": [
    "def get_score(text, freq_dict):\n",
    "    score = 0\n",
    "    for i in range(len(text)):\n",
    "        # if text[i:i+2] in token2id and text[i+:i+4] in token2id:\n",
    "        cur_token = text[i]\n",
    "        score += freq_dict[cur_token]\n",
    "    return np.log(score / i)\n",
    "get_score(test, freq_dict)"
   ]
  },
  {
   "cell_type": "code",
   "execution_count": 119,
   "metadata": {},
   "outputs": [
    {
     "data": {
      "text/plain": [
       "-0.2650538135534482"
      ]
     },
     "execution_count": 119,
     "metadata": {},
     "output_type": "execute_result"
    }
   ],
   "source": [
    "np.log(random.random())"
   ]
  },
  {
   "cell_type": "code",
   "execution_count": 120,
   "metadata": {},
   "outputs": [
    {
     "data": {
      "text/plain": [
       "array([[0.        , 0.2113114 , 0.33949783, ..., 0.21099773, 0.27705022,\n",
       "        0.09856901],\n",
       "       [0.22592596, 0.06720113, 0.24309167, ..., 0.3505988 , 0.29993931,\n",
       "        0.        ],\n",
       "       [0.12293921, 0.18492354, 0.11375629, ..., 0.09085547, 0.2284306 ,\n",
       "        0.        ],\n",
       "       ...,\n",
       "       [0.18694126, 0.        , 0.2123291 , ..., 0.17940647, 0.        ,\n",
       "        0.        ],\n",
       "       [0.2161536 , 0.01942548, 0.12410838, ..., 0.22723786, 0.19474447,\n",
       "        0.        ],\n",
       "       [0.14623088, 0.        , 0.        , ..., 0.        , 0.        ,\n",
       "        0.        ]])"
      ]
     },
     "execution_count": 120,
     "metadata": {},
     "output_type": "execute_result"
    }
   ],
   "source": [
    "(np.log(transition_matrix+1) / np.linalg.norm(np.log(transition_matrix+1), axis=1))"
   ]
  },
  {
   "cell_type": "code",
   "execution_count": 121,
   "metadata": {},
   "outputs": [
    {
     "data": {
      "text/plain": [
       "0.40244483433852585"
      ]
     },
     "execution_count": 121,
     "metadata": {},
     "output_type": "execute_result"
    }
   ],
   "source": [
    "random.random()"
   ]
  }
 ],
 "metadata": {
  "kernelspec": {
   "display_name": "ML",
   "language": "python",
   "name": "python3"
  },
  "language_info": {
   "codemirror_mode": {
    "name": "ipython",
    "version": 3
   },
   "file_extension": ".py",
   "mimetype": "text/x-python",
   "name": "python",
   "nbconvert_exporter": "python",
   "pygments_lexer": "ipython3",
   "version": "3.9.16"
  },
  "orig_nbformat": 4
 },
 "nbformat": 4,
 "nbformat_minor": 2
}
