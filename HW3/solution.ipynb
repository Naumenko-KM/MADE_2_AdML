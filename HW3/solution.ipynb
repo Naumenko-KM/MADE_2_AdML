{
 "cells": [
  {
   "cell_type": "code",
   "execution_count": 1,
   "metadata": {},
   "outputs": [],
   "source": [
    "from collections import Counter\n",
    "import random\n",
    "import string"
   ]
  },
  {
   "cell_type": "code",
   "execution_count": 2,
   "metadata": {},
   "outputs": [],
   "source": [
    "data_path = 'texts/WarAndPeace.txt'\n",
    "with open(data_path, 'r') as f:\n",
    "    corpus = f.read()\n",
    "corpus = corpus.lower()\n",
    "corpus = corpus.translate(str.maketrans(' ', ' ', string.punctuation)).replace('\\n', ' ').replace('\\t', ' ')\n",
    "corpus = ' '.join(corpus.split())"
   ]
  },
  {
   "attachments": {},
   "cell_type": "markdown",
   "metadata": {},
   "source": [
    "### 1. Базовый частотный метод"
   ]
  },
  {
   "cell_type": "code",
   "execution_count": 3,
   "metadata": {},
   "outputs": [
    {
     "data": {
      "text/plain": [
       "[(' ', 113793), ('о', 61282), ('а', 45209), ('е', 42519), ('и', 35838)]"
      ]
     },
     "execution_count": 3,
     "metadata": {},
     "output_type": "execute_result"
    }
   ],
   "source": [
    "unigrams = Counter(corpus).most_common()\n",
    "unigrams[:5]"
   ]
  },
  {
   "cell_type": "code",
   "execution_count": 4,
   "metadata": {},
   "outputs": [
    {
     "name": "stdout",
     "output_type": "stream",
     "text": [
      "война и мир – самый известный роман льва николаевича толстого как никакое другое произведение писате\n",
      "щsêаobшbъшcbôbюoъуêbшéщnю5ауêbcsъoаbбощobашсsбonщшрob5sбю5sыsbсoсbашсoсsnbпc—ыsnblcsшéщnпnашnblшюo5n\n"
     ]
    }
   ],
   "source": [
    "test = corpus[11:10000]\n",
    "\n",
    "unique_chars = list(set(test))\n",
    "unique_chars_shuffled = unique_chars.copy()\n",
    "random.Random(42).shuffle(unique_chars_shuffled)\n",
    "\n",
    "encoder_dict = dict(zip(unique_chars, unique_chars_shuffled))\n",
    "trans_table = str.maketrans(encoder_dict)\n",
    "\n",
    "test_encoded = test.translate(trans_table)\n",
    "encoded_unigrams = Counter(test_encoded).most_common()\n",
    "print(test[:100])\n",
    "print(test_encoded[:100])"
   ]
  },
  {
   "cell_type": "code",
   "execution_count": 5,
   "metadata": {},
   "outputs": [
    {
     "name": "stdout",
     "output_type": "stream",
     "text": [
      "                        война и мир – самый известный роман льва николаевича толстого как никакое другое произведение писате\n",
      "                        щsêаobшbъшcbôbюoъуêbшéщnю5ауêbcsъoаbбощobашсsбonщшрob5sбю5sыsbсoсbашсoсsnbпc—ыsnblcsшéщnпnашnblшюo5n\n",
      "most common chars: 1    щsêаo ш ъшc ô юoъуê шéщnю5ауê csъoа бощo ашсsбonщшрo 5sбю5sыs сoс ашсoсsn пc—ыsn lcsшéщnпnашn lшюo5n\n",
      "most common chars: 2    щоêаo ш ъшc ô юoъуê шéщnю5ауê cоъoа бощo ашсобonщшрo 5обю5оыо сoс ашсoсоn пc—ыоn lcошéщnпnашn lшюo5n\n",
      "most common chars: 3    щоêаo ш ъшc ô юoъуê шéщаю5ауê cоъoа бощo ашсобoащшрo 5обю5оыо сoс ашсoсоа пc—ыоа lcошéщапааша lшюo5а\n",
      "most common chars: 4    щоêае ш ъшc ô юеъуê шéщаю5ауê cоъеа боще ашсобеащшре 5обю5оыо сес ашсесоа пc—ыоа lcошéщапааша lшюе5а\n",
      "most common chars: 5    щоêие ш ъшc ô юеъуê шéщаю5иуê cоъеи боще ишсобеащшре 5обю5оыо сес ишсесоа пc—ыоа lcошéщапаиша lшюе5а\n",
      "most common chars: 6    щоêие н ънc ô юеъуê нéщаю5иуê cоъеи боще инсобеащнре 5обю5оыо сес инсесоа пc—ыоа lcонéщапаина lнюе5а\n",
      "most common chars: 7    щоêие н ънc ô юеъуê нéщаютиуê cоъеи боще инсобеащнре тобютоыо сес инсесоа пc—ыоа lcонéщапаина lнюета\n",
      "most common chars: 8    соêие н ънc ô юеъуê нéсаютиуê cоъеи босе инсобеаснре тобютоыо сес инсесоа пc—ыоа lcонéсапаина lнюета\n"
     ]
    }
   ],
   "source": [
    "print(' ' * 23, test[:100])\n",
    "print(' ' * 23, test_encoded[:100])\n",
    "for i in range(8):\n",
    "    decoder_dict = dict(zip([x[0] for x in encoded_unigrams[:i + 1]], [x[0] for x in unigrams[:i + 1]]))\n",
    "    trans_table = str.maketrans(decoder_dict)\n",
    "    test_decoded = test_encoded.translate(trans_table)\n",
    "    print(f'most common chars: {i + 1:1}   ', test_decoded[:100])"
   ]
  },
  {
   "cell_type": "code",
   "execution_count": 6,
   "metadata": {},
   "outputs": [
    {
     "data": {
      "text/plain": [
       "{'b': ' ',\n",
       " 's': 'о',\n",
       " 'n': 'а',\n",
       " 'o': 'е',\n",
       " 'а': 'и',\n",
       " 'ш': 'н',\n",
       " '5': 'т',\n",
       " 'щ': 'с'}"
      ]
     },
     "execution_count": 6,
     "metadata": {},
     "output_type": "execute_result"
    }
   ],
   "source": [
    "decoder_dict"
   ]
  },
  {
   "attachments": {},
   "cell_type": "markdown",
   "metadata": {},
   "source": [
    "### 2. Биграммный частотный метод"
   ]
  },
  {
   "cell_type": "code",
   "execution_count": 7,
   "metadata": {},
   "outputs": [
    {
     "data": {
      "text/plain": [
       "[('о ', 13219), ('и ', 11355), ('а ', 10485), ('е ', 9971), (' с', 9847)]"
      ]
     },
     "execution_count": 7,
     "metadata": {},
     "output_type": "execute_result"
    }
   ],
   "source": [
    "bigrams = Counter(corpus[x:x+2] for x in range(len(corpus) - 1)).most_common()\n",
    "bigrams[:5]"
   ]
  },
  {
   "cell_type": "code",
   "execution_count": 24,
   "metadata": {},
   "outputs": [
    {
     "ename": "ValueError",
     "evalue": "string keys in translate table must be of length 1",
     "output_type": "error",
     "traceback": [
      "\u001b[0;31m---------------------------------------------------------------------------\u001b[0m",
      "\u001b[0;31mValueError\u001b[0m                                Traceback (most recent call last)",
      "\u001b[0;32m/tmp/ipykernel_67608/2452478775.py\u001b[0m in \u001b[0;36m<module>\u001b[0;34m\u001b[0m\n\u001b[1;32m      7\u001b[0m \u001b[0;34m\u001b[0m\u001b[0m\n\u001b[1;32m      8\u001b[0m \u001b[0mencoder_dict\u001b[0m \u001b[0;34m=\u001b[0m \u001b[0mdict\u001b[0m\u001b[0;34m(\u001b[0m\u001b[0mzip\u001b[0m\u001b[0;34m(\u001b[0m\u001b[0munique_chars\u001b[0m\u001b[0;34m,\u001b[0m \u001b[0munique_chars_shuffled\u001b[0m\u001b[0;34m)\u001b[0m\u001b[0;34m)\u001b[0m\u001b[0;34m\u001b[0m\u001b[0;34m\u001b[0m\u001b[0m\n\u001b[0;32m----> 9\u001b[0;31m \u001b[0mtrans_table\u001b[0m \u001b[0;34m=\u001b[0m \u001b[0mstr\u001b[0m\u001b[0;34m.\u001b[0m\u001b[0mmaketrans\u001b[0m\u001b[0;34m(\u001b[0m\u001b[0mencoder_dict\u001b[0m\u001b[0;34m)\u001b[0m\u001b[0;34m\u001b[0m\u001b[0;34m\u001b[0m\u001b[0m\n\u001b[0m\u001b[1;32m     10\u001b[0m \u001b[0;34m\u001b[0m\u001b[0m\n\u001b[1;32m     11\u001b[0m \u001b[0mtest_encoded\u001b[0m \u001b[0;34m=\u001b[0m \u001b[0mtest\u001b[0m\u001b[0;34m.\u001b[0m\u001b[0mtranslate\u001b[0m\u001b[0;34m(\u001b[0m\u001b[0mtrans_table\u001b[0m\u001b[0;34m)\u001b[0m\u001b[0;34m\u001b[0m\u001b[0;34m\u001b[0m\u001b[0m\n",
      "\u001b[0;31mValueError\u001b[0m: string keys in translate table must be of length 1"
     ]
    }
   ],
   "source": [
    "test = corpus[11:10000]\n",
    "\n",
    "unique_chars = Counter(corpus[x:x+2] for x in range(len(corpus) - 1)).most_common() \n",
    "unique_chars = [x[0] for x in unique_chars]\n",
    "unique_chars_shuffled = unique_chars.copy()\n",
    "random.Random(42).shuffle(unique_chars_shuffled)\n",
    "\n",
    "encoder_dict = dict(zip(unique_chars, unique_chars_shuffled))\n",
    "trans_table = str.maketrans(encoder_dict)\n",
    "\n",
    "test_encoded = test.translate(trans_table)\n",
    "encoded_unigrams = Counter(test_encoded).most_common()\n",
    "print(test[:100])\n",
    "print(test_encoded[:100])"
   ]
  },
  {
   "cell_type": "code",
   "execution_count": 8,
   "metadata": {},
   "outputs": [
    {
     "data": {
      "text/plain": [
       "[('то', 8491), ('ст', 6671), ('на', 6546), ('го', 5756), ('ал', 5673)]"
      ]
     },
     "execution_count": 8,
     "metadata": {},
     "output_type": "execute_result"
    }
   ],
   "source": [
    "bigrams_without_spaces = [x for x in bigrams if ' ' not in x[0]]\n",
    "bigrams_without_spaces[:5]"
   ]
  },
  {
   "cell_type": "code",
   "execution_count": null,
   "metadata": {},
   "outputs": [],
   "source": []
  }
 ],
 "metadata": {
  "kernelspec": {
   "display_name": "ML",
   "language": "python",
   "name": "python3"
  },
  "language_info": {
   "codemirror_mode": {
    "name": "ipython",
    "version": 3
   },
   "file_extension": ".py",
   "mimetype": "text/x-python",
   "name": "python",
   "nbconvert_exporter": "python",
   "pygments_lexer": "ipython3",
   "version": "3.9.15"
  },
  "orig_nbformat": 4
 },
 "nbformat": 4,
 "nbformat_minor": 2
}
